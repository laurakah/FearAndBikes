{
 "cells": [
  {
   "cell_type": "code",
   "execution_count": 1,
   "metadata": {},
   "outputs": [],
   "source": [
    "import pandas as pd\n",
    "import numpy as np\n",
    "import matplotlib as plt\n",
    "import requests\n",
    "import json\n",
    "\n",
    "# getting data from the bikeshare-research.org api\n",
    "req_url = \"https://bikeshare-research.org/api/v1/systems/london\"\n",
    "header = {\"accept\": \"application/json\"}\n",
    "res = requests.get(req_url, headers=header)"
   ]
  },
  {
   "cell_type": "code",
   "execution_count": 2,
   "metadata": {},
   "outputs": [],
   "source": [
    "# parsing json\n",
    "res = res.json()\n",
    "items = res[\"stats\"]"
   ]
  },
  {
   "cell_type": "code",
   "execution_count": 3,
   "metadata": {},
   "outputs": [],
   "source": [
    "# initializing dataframe with date and value columns\n",
    "df = pd.DataFrame(items)\n",
    "df = df[[\"sdate\", \"svalue\"]]\n",
    "\n",
    "# renaming columns\n",
    "df.rename(columns={\"sdate\": \"date\", \"svalue\": \"bike_rents\"}, inplace=True)\n",
    "\n",
    "# type conversion\n",
    "df[\"bike_rents\"] = df[\"bike_rents\"].astype(int)\n",
    "pd.to_datetime(df[\"date\"])\n",
    "\n",
    "# grouping by date\n",
    "df = (df.groupby(\"date\").agg({'bike_rents': 'sum'}))"
   ]
  },
  {
   "cell_type": "code",
   "execution_count": 4,
   "metadata": {},
   "outputs": [],
   "source": [
    "# writing to csv\n",
    "df.to_csv(\"../data_clean/bike-sharing-research-api_clean.csv\")"
   ]
  }
 ],
 "metadata": {
  "kernelspec": {
   "display_name": "Python 3",
   "language": "python",
   "name": "python3"
  },
  "language_info": {
   "codemirror_mode": {
    "name": "ipython",
    "version": 3
   },
   "file_extension": ".py",
   "mimetype": "text/x-python",
   "name": "python",
   "nbconvert_exporter": "python",
   "pygments_lexer": "ipython3",
   "version": "3.7.3"
  }
 },
 "nbformat": 4,
 "nbformat_minor": 2
}
