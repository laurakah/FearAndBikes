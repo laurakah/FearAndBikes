{
 "cells": [
  {
   "cell_type": "code",
   "execution_count": 356,
   "metadata": {},
   "outputs": [],
   "source": [
    "import pandas as pd\n",
    "import numpy as np\n",
    "from datetime import datetime as dt\n",
    "\n",
    "# displaying options for data frames\n",
    "pd.set_option(\"display.max_columns\", 5400)\n",
    "pd.set_option(\"display.max_colwidth\", 500)\n",
    "pd.set_option('display.float_format', lambda x: '%.3f' % x)"
   ]
  },
  {
   "cell_type": "code",
   "execution_count": 357,
   "metadata": {},
   "outputs": [],
   "source": [
    "bike_data = pd.read_csv(\"../data_clean/london_merged_clean.csv\", encoding = \"ISO-8859-1\")\n",
    "terrorism_data = pd.read_csv(\"../data_clean/global_terrorism_clean_uk_only.csv\" , encoding = 'utf-8') #\"ISO-8859-1\")"
   ]
  },
  {
   "cell_type": "code",
   "execution_count": 358,
   "metadata": {},
   "outputs": [],
   "source": [
    "terrorism_data = terrorism_data.drop([\"Unnamed: 0\"], axis=1)"
   ]
  },
  {
   "cell_type": "code",
   "execution_count": 359,
   "metadata": {},
   "outputs": [],
   "source": [
    "df = bike_data.merge(terrorism_data, how = 'left', on = 'date')"
   ]
  },
  {
   "cell_type": "code",
   "execution_count": 360,
   "metadata": {},
   "outputs": [],
   "source": [
    "df[\"event_id\"]  = df[\"event_id\"].replace(np.nan, 'NAN')"
   ]
  },
  {
   "cell_type": "code",
   "execution_count": 361,
   "metadata": {},
   "outputs": [],
   "source": [
    "df[\"event_id\"] = np.where(df[\"event_id\"] != \"NAN\", True, False)"
   ]
  },
  {
   "cell_type": "code",
   "execution_count": 362,
   "metadata": {},
   "outputs": [],
   "source": [
    "df.rename(columns = {\"event_id\" : \"attack(y/n)\"}, inplace = True)"
   ]
  },
  {
   "cell_type": "code",
   "execution_count": 363,
   "metadata": {},
   "outputs": [],
   "source": [
    "df['date'] = pd.to_datetime(df['date'])"
   ]
  },
  {
   "cell_type": "code",
   "execution_count": 364,
   "metadata": {},
   "outputs": [],
   "source": [
    "df = df.set_index(\"date\")"
   ]
  },
  {
   "cell_type": "code",
   "execution_count": 365,
   "metadata": {},
   "outputs": [],
   "source": [
    "df_base = df[[ \"bike_rents\", 'attack(y/n)']].copy()"
   ]
  },
  {
   "cell_type": "code",
   "execution_count": 366,
   "metadata": {},
   "outputs": [],
   "source": [
    "df_base\n",
    "\n",
    "# dropping duplicate date index rows\n",
    "df_base = df_base.loc[~df_base.index.duplicated(keep='first')]"
   ]
  },
  {
   "cell_type": "code",
   "execution_count": 367,
   "metadata": {},
   "outputs": [],
   "source": [
    "def get_dates_of_attack_lst(df):\n",
    "    dates_of_attack = list(df.loc[df[\"attack(y/n)\"] == True].index)\n",
    "    return list(dict.fromkeys(dates_of_attack))\n",
    "    "
   ]
  },
  {
   "cell_type": "code",
   "execution_count": 368,
   "metadata": {},
   "outputs": [],
   "source": [
    "def get_date_index(date, days = 8):\n",
    "    date_indexes = []\n",
    "    week_before = list(pd.date_range(end = date, periods = days))\n",
    "    week_after = list(pd.date_range(start = date, periods = days))\n",
    "    for entry in week_before:\n",
    "        date_indexes.append(entry)\n",
    "    for entry in week_after:\n",
    "        date_indexes.append(entry)\n",
    "    return pd.to_datetime(list(dict.fromkeys(date_indexes)))"
   ]
  },
  {
   "cell_type": "code",
   "execution_count": 369,
   "metadata": {},
   "outputs": [],
   "source": [
    "def get_rents_counts(df, date_index, days):\n",
    "    time_ser = get_date_index(date_index , days)\n",
    "    return df['bike_rents'][time_ser]"
   ]
  },
  {
   "cell_type": "code",
   "execution_count": 370,
   "metadata": {},
   "outputs": [],
   "source": [
    "def get_diff(ser):\n",
    "    chunk_size = len(ser)//2\n",
    "    before_sum = sum(ser[0:chunk_size])\n",
    "    after_sum =  sum(ser[(chunk_size+1):len(ser)])\n",
    "    return after_sum - before_sum "
   ]
  },
  {
   "cell_type": "code",
   "execution_count": 371,
   "metadata": {},
   "outputs": [],
   "source": [
    "def get_diff_df(df, days = 8):\n",
    "    lst_diff = [] \n",
    "    # get list of terrorism attack dates from df\n",
    "    lst_of_attacks = get_dates_of_attack_lst(df)\n",
    "    # for each attack date get list of surrounding dates depending on days passed to the function\n",
    "    # and from that list get a a series of bike rent counts for that time period\n",
    "    for elem in lst_of_attacks:\n",
    "        time_series = get_rents_counts(df, elem, days)\n",
    "        # dealing with missing values at the beginning and the end of the date series by skipping them\n",
    "        if time_series.isnull().sum() != 0:\n",
    "            continue\n",
    "        lst_diff.append(get_diff(time_series))\n",
    "    return sum(lst_diff)/len(lst_diff)\n"
   ]
  },
  {
   "cell_type": "code",
   "execution_count": 372,
   "metadata": {},
   "outputs": [
    {
     "data": {
      "text/plain": [
       "-226.20118343195267"
      ]
     },
     "execution_count": 372,
     "metadata": {},
     "output_type": "execute_result"
    }
   ],
   "source": [
    "get_diff_df(df_base, 12)"
   ]
  },
  {
   "cell_type": "code",
   "execution_count": 373,
   "metadata": {},
   "outputs": [
    {
     "data": {
      "text/plain": [
       "-1360.7882352941176"
      ]
     },
     "execution_count": 373,
     "metadata": {},
     "output_type": "execute_result"
    }
   ],
   "source": [
    "get_diff_df(df_base, 8)"
   ]
  },
  {
   "cell_type": "code",
   "execution_count": 374,
   "metadata": {},
   "outputs": [
    {
     "data": {
      "text/plain": [
       "-1310.3139534883721"
      ]
     },
     "execution_count": 374,
     "metadata": {},
     "output_type": "execute_result"
    }
   ],
   "source": [
    "get_diff_df(df_base, 4)"
   ]
  },
  {
   "cell_type": "code",
   "execution_count": 375,
   "metadata": {},
   "outputs": [
    {
     "data": {
      "text/plain": [
       "181.27167630057804"
      ]
     },
     "execution_count": 375,
     "metadata": {},
     "output_type": "execute_result"
    }
   ],
   "source": [
    "get_diff_df(df_base, 3)"
   ]
  },
  {
   "cell_type": "code",
   "execution_count": 376,
   "metadata": {},
   "outputs": [
    {
     "data": {
      "text/plain": [
       "504.7586206896552"
      ]
     },
     "execution_count": 376,
     "metadata": {},
     "output_type": "execute_result"
    }
   ],
   "source": [
    "get_diff_df(df_base, 2)"
   ]
  },
  {
   "cell_type": "code",
   "execution_count": 377,
   "metadata": {},
   "outputs": [],
   "source": [
    "def get_before_after_tup(ser):\n",
    "    lst_b_a = []\n",
    "    chunk_size = len(ser)//2\n",
    "    lst_b_a.append(sum(ser[0:chunk_size]))\n",
    "    lst_b_a.append(sum(ser[(chunk_size+1):len(ser)]))\n",
    "    return tuple(lst_b_a) "
   ]
  },
  {
   "cell_type": "code",
   "execution_count": 378,
   "metadata": {},
   "outputs": [],
   "source": [
    "def get_befre_after_df(df, days = 8):\n",
    "    lst_before_after = [] \n",
    "    # get list of terrorism attack dates from df\n",
    "    lst_of_attacks = get_dates_of_attack_lst(df)\n",
    "    # for each attack date get list of surrounding dates depending on days passed to the function\n",
    "    # and from that list get a a series of bike rent counts for that time period\n",
    "    for elem in lst_of_attacks:\n",
    "        time_series = get_rents_counts(df, elem, days)\n",
    "        # dealing with missing values at the beginning and the end of the date series by skipping them\n",
    "        if time_series.isnull().sum() != 0:\n",
    "            continue\n",
    "        lst_before_after.append(get_before_after_tup(time_series))\n",
    "    return pd.DataFrame(lst_before_after, columns = [\"before_sum\", \"after_sum\"])"
   ]
  },
  {
   "cell_type": "code",
   "execution_count": 379,
   "metadata": {},
   "outputs": [],
   "source": [
    "df_corr = get_befre_after_df(df_base, 3)"
   ]
  },
  {
   "cell_type": "code",
   "execution_count": 380,
   "metadata": {},
   "outputs": [
    {
     "data": {
      "text/html": [
       "<div>\n",
       "<style scoped>\n",
       "    .dataframe tbody tr th:only-of-type {\n",
       "        vertical-align: middle;\n",
       "    }\n",
       "\n",
       "    .dataframe tbody tr th {\n",
       "        vertical-align: top;\n",
       "    }\n",
       "\n",
       "    .dataframe thead th {\n",
       "        text-align: right;\n",
       "    }\n",
       "</style>\n",
       "<table border=\"1\" class=\"dataframe\">\n",
       "  <thead>\n",
       "    <tr style=\"text-align: right;\">\n",
       "      <th></th>\n",
       "      <th>before_sum</th>\n",
       "      <th>after_sum</th>\n",
       "    </tr>\n",
       "  </thead>\n",
       "  <tbody>\n",
       "    <tr>\n",
       "      <td>before_sum</td>\n",
       "      <td>1.000</td>\n",
       "      <td>0.574</td>\n",
       "    </tr>\n",
       "    <tr>\n",
       "      <td>after_sum</td>\n",
       "      <td>0.574</td>\n",
       "      <td>1.000</td>\n",
       "    </tr>\n",
       "  </tbody>\n",
       "</table>\n",
       "</div>"
      ],
      "text/plain": [
       "            before_sum  after_sum\n",
       "before_sum       1.000      0.574\n",
       "after_sum        0.574      1.000"
      ]
     },
     "execution_count": 380,
     "metadata": {},
     "output_type": "execute_result"
    }
   ],
   "source": [
    "df_corr.corr(method=\"pearson\")"
   ]
  },
  {
   "cell_type": "code",
   "execution_count": 381,
   "metadata": {},
   "outputs": [
    {
     "data": {
      "text/html": [
       "<div>\n",
       "<style scoped>\n",
       "    .dataframe tbody tr th:only-of-type {\n",
       "        vertical-align: middle;\n",
       "    }\n",
       "\n",
       "    .dataframe tbody tr th {\n",
       "        vertical-align: top;\n",
       "    }\n",
       "\n",
       "    .dataframe thead th {\n",
       "        text-align: right;\n",
       "    }\n",
       "</style>\n",
       "<table border=\"1\" class=\"dataframe\">\n",
       "  <thead>\n",
       "    <tr style=\"text-align: right;\">\n",
       "      <th></th>\n",
       "      <th>bike_rents</th>\n",
       "      <th>temp_actual(C)</th>\n",
       "      <th>temp_feeling(C)</th>\n",
       "      <th>humidity</th>\n",
       "      <th>wind_speed</th>\n",
       "      <th>weather_condition</th>\n",
       "      <th>holiday(y/n)</th>\n",
       "      <th>weekend(y/n)</th>\n",
       "      <th>season</th>\n",
       "      <th>attack(y/n)</th>\n",
       "      <th>state</th>\n",
       "      <th>city</th>\n",
       "      <th>location</th>\n",
       "      <th>event_summary</th>\n",
       "      <th>multiple_perps(y/n)</th>\n",
       "      <th>attack_succeeded(y/n)</th>\n",
       "      <th>suicide_attack(y/n)</th>\n",
       "      <th>attack_type</th>\n",
       "      <th>target_type</th>\n",
       "      <th>target_subtype</th>\n",
       "      <th>preps_group_name</th>\n",
       "      <th>affiliated(y/n)</th>\n",
       "      <th>no_of_perps</th>\n",
       "      <th>people_killed</th>\n",
       "      <th>people_wounded</th>\n",
       "      <th>weapon_type</th>\n",
       "    </tr>\n",
       "    <tr>\n",
       "      <th>date</th>\n",
       "      <th></th>\n",
       "      <th></th>\n",
       "      <th></th>\n",
       "      <th></th>\n",
       "      <th></th>\n",
       "      <th></th>\n",
       "      <th></th>\n",
       "      <th></th>\n",
       "      <th></th>\n",
       "      <th></th>\n",
       "      <th></th>\n",
       "      <th></th>\n",
       "      <th></th>\n",
       "      <th></th>\n",
       "      <th></th>\n",
       "      <th></th>\n",
       "      <th></th>\n",
       "      <th></th>\n",
       "      <th></th>\n",
       "      <th></th>\n",
       "      <th></th>\n",
       "      <th></th>\n",
       "      <th></th>\n",
       "      <th></th>\n",
       "      <th></th>\n",
       "      <th></th>\n",
       "    </tr>\n",
       "  </thead>\n",
       "  <tbody>\n",
       "    <tr>\n",
       "      <td>2015-01-04</td>\n",
       "      <td>9234</td>\n",
       "      <td>2.480</td>\n",
       "      <td>0.650</td>\n",
       "      <td>94.270</td>\n",
       "      <td>7.500</td>\n",
       "      <td>partly cloudy</td>\n",
       "      <td>False</td>\n",
       "      <td>True</td>\n",
       "      <td>winter</td>\n",
       "      <td>False</td>\n",
       "      <td>NaN</td>\n",
       "      <td>NaN</td>\n",
       "      <td>NaN</td>\n",
       "      <td>NaN</td>\n",
       "      <td>NaN</td>\n",
       "      <td>NaN</td>\n",
       "      <td>NaN</td>\n",
       "      <td>NaN</td>\n",
       "      <td>NaN</td>\n",
       "      <td>NaN</td>\n",
       "      <td>NaN</td>\n",
       "      <td>NaN</td>\n",
       "      <td>nan</td>\n",
       "      <td>nan</td>\n",
       "      <td>nan</td>\n",
       "      <td>NaN</td>\n",
       "    </tr>\n",
       "  </tbody>\n",
       "</table>\n",
       "</div>"
      ],
      "text/plain": [
       "            bike_rents  temp_actual(C)  temp_feeling(C)  humidity  wind_speed  \\\n",
       "date                                                                            \n",
       "2015-01-04        9234           2.480            0.650    94.270       7.500   \n",
       "\n",
       "           weather_condition  holiday(y/n)  weekend(y/n)  season  attack(y/n)  \\\n",
       "date                                                                            \n",
       "2015-01-04     partly cloudy         False          True  winter        False   \n",
       "\n",
       "           state city location event_summary multiple_perps(y/n)  \\\n",
       "date                                                               \n",
       "2015-01-04   NaN  NaN      NaN           NaN                 NaN   \n",
       "\n",
       "           attack_succeeded(y/n) suicide_attack(y/n) attack_type target_type  \\\n",
       "date                                                                           \n",
       "2015-01-04                   NaN                 NaN         NaN         NaN   \n",
       "\n",
       "           target_subtype preps_group_name affiliated(y/n)  no_of_perps  \\\n",
       "date                                                                      \n",
       "2015-01-04            NaN              NaN             NaN          nan   \n",
       "\n",
       "            people_killed  people_wounded weapon_type  \n",
       "date                                                   \n",
       "2015-01-04            nan             nan         NaN  "
      ]
     },
     "execution_count": 381,
     "metadata": {},
     "output_type": "execute_result"
    }
   ],
   "source": [
    "df.head(1)"
   ]
  },
  {
   "cell_type": "markdown",
   "metadata": {},
   "source": [
    "## no Northen Ireland"
   ]
  },
  {
   "cell_type": "code",
   "execution_count": 382,
   "metadata": {},
   "outputs": [],
   "source": [
    "df_no_NI = df[[ \"bike_rents\", 'attack(y/n)', 'state']].copy()"
   ]
  },
  {
   "cell_type": "code",
   "execution_count": 383,
   "metadata": {},
   "outputs": [
    {
     "data": {
      "text/html": [
       "<div>\n",
       "<style scoped>\n",
       "    .dataframe tbody tr th:only-of-type {\n",
       "        vertical-align: middle;\n",
       "    }\n",
       "\n",
       "    .dataframe tbody tr th {\n",
       "        vertical-align: top;\n",
       "    }\n",
       "\n",
       "    .dataframe thead th {\n",
       "        text-align: right;\n",
       "    }\n",
       "</style>\n",
       "<table border=\"1\" class=\"dataframe\">\n",
       "  <thead>\n",
       "    <tr style=\"text-align: right;\">\n",
       "      <th></th>\n",
       "      <th>bike_rents</th>\n",
       "      <th>attack(y/n)</th>\n",
       "      <th>state</th>\n",
       "    </tr>\n",
       "    <tr>\n",
       "      <th>date</th>\n",
       "      <th></th>\n",
       "      <th></th>\n",
       "      <th></th>\n",
       "    </tr>\n",
       "  </thead>\n",
       "  <tbody>\n",
       "    <tr>\n",
       "      <td>2015-01-04</td>\n",
       "      <td>9234</td>\n",
       "      <td>False</td>\n",
       "      <td>NaN</td>\n",
       "    </tr>\n",
       "    <tr>\n",
       "      <td>2015-01-05</td>\n",
       "      <td>20372</td>\n",
       "      <td>True</td>\n",
       "      <td>Northern Ireland</td>\n",
       "    </tr>\n",
       "    <tr>\n",
       "      <td>2015-01-06</td>\n",
       "      <td>20613</td>\n",
       "      <td>False</td>\n",
       "      <td>NaN</td>\n",
       "    </tr>\n",
       "    <tr>\n",
       "      <td>2015-01-07</td>\n",
       "      <td>21064</td>\n",
       "      <td>False</td>\n",
       "      <td>NaN</td>\n",
       "    </tr>\n",
       "    <tr>\n",
       "      <td>2015-01-08</td>\n",
       "      <td>15601</td>\n",
       "      <td>True</td>\n",
       "      <td>Northern Ireland</td>\n",
       "    </tr>\n",
       "    <tr>\n",
       "      <td>...</td>\n",
       "      <td>...</td>\n",
       "      <td>...</td>\n",
       "      <td>...</td>\n",
       "    </tr>\n",
       "    <tr>\n",
       "      <td>2016-12-30</td>\n",
       "      <td>11566</td>\n",
       "      <td>True</td>\n",
       "      <td>Northern Ireland</td>\n",
       "    </tr>\n",
       "    <tr>\n",
       "      <td>2016-12-31</td>\n",
       "      <td>11424</td>\n",
       "      <td>False</td>\n",
       "      <td>NaN</td>\n",
       "    </tr>\n",
       "    <tr>\n",
       "      <td>2017-01-01</td>\n",
       "      <td>6421</td>\n",
       "      <td>False</td>\n",
       "      <td>NaN</td>\n",
       "    </tr>\n",
       "    <tr>\n",
       "      <td>2017-01-02</td>\n",
       "      <td>11823</td>\n",
       "      <td>False</td>\n",
       "      <td>NaN</td>\n",
       "    </tr>\n",
       "    <tr>\n",
       "      <td>2017-01-03</td>\n",
       "      <td>19436</td>\n",
       "      <td>False</td>\n",
       "      <td>NaN</td>\n",
       "    </tr>\n",
       "  </tbody>\n",
       "</table>\n",
       "<p>775 rows × 3 columns</p>\n",
       "</div>"
      ],
      "text/plain": [
       "            bike_rents  attack(y/n)             state\n",
       "date                                                 \n",
       "2015-01-04        9234        False               NaN\n",
       "2015-01-05       20372         True  Northern Ireland\n",
       "2015-01-06       20613        False               NaN\n",
       "2015-01-07       21064        False               NaN\n",
       "2015-01-08       15601         True  Northern Ireland\n",
       "...                ...          ...               ...\n",
       "2016-12-30       11566         True  Northern Ireland\n",
       "2016-12-31       11424        False               NaN\n",
       "2017-01-01        6421        False               NaN\n",
       "2017-01-02       11823        False               NaN\n",
       "2017-01-03       19436        False               NaN\n",
       "\n",
       "[775 rows x 3 columns]"
      ]
     },
     "execution_count": 383,
     "metadata": {},
     "output_type": "execute_result"
    }
   ],
   "source": [
    "df_no_NI"
   ]
  },
  {
   "cell_type": "code",
   "execution_count": 384,
   "metadata": {},
   "outputs": [],
   "source": [
    "def get_diff_df_1(df, days = 8):\n",
    "    lst_diff = [] \n",
    "    # get list of terrorism attack dates from df\n",
    "    lst_of_attacks = list(df.loc[(df[\"attack(y/n)\"] == True) & (df[\"state\"] != \"Northern Ireland\")].index)\n",
    "    lst_of_attacks = list(dict.fromkeys(lst_of_attacks))\n",
    "    # for each attack date get list of surrounding dates depending on days passed to the function\n",
    "    # and from that list get a a series of bike rent counts for that time period\n",
    "    for elem in lst_of_attacks:\n",
    "        time_series = get_rents_counts(df, elem, days)\n",
    "        # dealing with missing values at the beginning and the end of the date series by skipping them\n",
    "        if time_series.isnull().sum() != 0:\n",
    "            continue\n",
    "        lst_diff.append(get_diff(time_series))\n",
    "    return sum(lst_diff)/len(lst_diff)\n",
    "df_no_NI = df_no_NI.loc[~df_no_NI.index.duplicated(keep='first')]"
   ]
  },
  {
   "cell_type": "code",
   "execution_count": 385,
   "metadata": {},
   "outputs": [
    {
     "data": {
      "text/plain": [
       "919.5"
      ]
     },
     "execution_count": 385,
     "metadata": {},
     "output_type": "execute_result"
    }
   ],
   "source": [
    "get_diff_df_1(df_no_NI, 8)"
   ]
  },
  {
   "cell_type": "code",
   "execution_count": 386,
   "metadata": {},
   "outputs": [
    {
     "data": {
      "text/plain": [
       "-1929.423076923077"
      ]
     },
     "execution_count": 386,
     "metadata": {},
     "output_type": "execute_result"
    }
   ],
   "source": [
    "get_diff_df_1(df_no_NI, 4)"
   ]
  },
  {
   "cell_type": "code",
   "execution_count": 387,
   "metadata": {},
   "outputs": [
    {
     "data": {
      "text/plain": [
       "-569.1538461538462"
      ]
     },
     "execution_count": 387,
     "metadata": {},
     "output_type": "execute_result"
    }
   ],
   "source": [
    "get_diff_df_1(df_no_NI, 3)"
   ]
  },
  {
   "cell_type": "code",
   "execution_count": 388,
   "metadata": {},
   "outputs": [
    {
     "data": {
      "text/html": [
       "<div>\n",
       "<style scoped>\n",
       "    .dataframe tbody tr th:only-of-type {\n",
       "        vertical-align: middle;\n",
       "    }\n",
       "\n",
       "    .dataframe tbody tr th {\n",
       "        vertical-align: top;\n",
       "    }\n",
       "\n",
       "    .dataframe thead th {\n",
       "        text-align: right;\n",
       "    }\n",
       "</style>\n",
       "<table border=\"1\" class=\"dataframe\">\n",
       "  <thead>\n",
       "    <tr style=\"text-align: right;\">\n",
       "      <th></th>\n",
       "      <th>bike_rents</th>\n",
       "      <th>temp_actual(C)</th>\n",
       "      <th>temp_feeling(C)</th>\n",
       "      <th>humidity</th>\n",
       "      <th>wind_speed</th>\n",
       "      <th>weather_condition</th>\n",
       "      <th>holiday(y/n)</th>\n",
       "      <th>weekend(y/n)</th>\n",
       "      <th>season</th>\n",
       "      <th>attack(y/n)</th>\n",
       "      <th>state</th>\n",
       "      <th>city</th>\n",
       "      <th>location</th>\n",
       "      <th>event_summary</th>\n",
       "      <th>multiple_perps(y/n)</th>\n",
       "      <th>attack_succeeded(y/n)</th>\n",
       "      <th>suicide_attack(y/n)</th>\n",
       "      <th>attack_type</th>\n",
       "      <th>target_type</th>\n",
       "      <th>target_subtype</th>\n",
       "      <th>preps_group_name</th>\n",
       "      <th>affiliated(y/n)</th>\n",
       "      <th>no_of_perps</th>\n",
       "      <th>people_killed</th>\n",
       "      <th>people_wounded</th>\n",
       "      <th>weapon_type</th>\n",
       "    </tr>\n",
       "    <tr>\n",
       "      <th>date</th>\n",
       "      <th></th>\n",
       "      <th></th>\n",
       "      <th></th>\n",
       "      <th></th>\n",
       "      <th></th>\n",
       "      <th></th>\n",
       "      <th></th>\n",
       "      <th></th>\n",
       "      <th></th>\n",
       "      <th></th>\n",
       "      <th></th>\n",
       "      <th></th>\n",
       "      <th></th>\n",
       "      <th></th>\n",
       "      <th></th>\n",
       "      <th></th>\n",
       "      <th></th>\n",
       "      <th></th>\n",
       "      <th></th>\n",
       "      <th></th>\n",
       "      <th></th>\n",
       "      <th></th>\n",
       "      <th></th>\n",
       "      <th></th>\n",
       "      <th></th>\n",
       "      <th></th>\n",
       "    </tr>\n",
       "  </thead>\n",
       "  <tbody>\n",
       "    <tr>\n",
       "      <td>2015-01-04</td>\n",
       "      <td>9234</td>\n",
       "      <td>2.480</td>\n",
       "      <td>0.650</td>\n",
       "      <td>94.270</td>\n",
       "      <td>7.500</td>\n",
       "      <td>partly cloudy</td>\n",
       "      <td>False</td>\n",
       "      <td>True</td>\n",
       "      <td>winter</td>\n",
       "      <td>False</td>\n",
       "      <td>NaN</td>\n",
       "      <td>NaN</td>\n",
       "      <td>NaN</td>\n",
       "      <td>NaN</td>\n",
       "      <td>NaN</td>\n",
       "      <td>NaN</td>\n",
       "      <td>NaN</td>\n",
       "      <td>NaN</td>\n",
       "      <td>NaN</td>\n",
       "      <td>NaN</td>\n",
       "      <td>NaN</td>\n",
       "      <td>NaN</td>\n",
       "      <td>nan</td>\n",
       "      <td>nan</td>\n",
       "      <td>nan</td>\n",
       "      <td>NaN</td>\n",
       "    </tr>\n",
       "  </tbody>\n",
       "</table>\n",
       "</div>"
      ],
      "text/plain": [
       "            bike_rents  temp_actual(C)  temp_feeling(C)  humidity  wind_speed  \\\n",
       "date                                                                            \n",
       "2015-01-04        9234           2.480            0.650    94.270       7.500   \n",
       "\n",
       "           weather_condition  holiday(y/n)  weekend(y/n)  season  attack(y/n)  \\\n",
       "date                                                                            \n",
       "2015-01-04     partly cloudy         False          True  winter        False   \n",
       "\n",
       "           state city location event_summary multiple_perps(y/n)  \\\n",
       "date                                                               \n",
       "2015-01-04   NaN  NaN      NaN           NaN                 NaN   \n",
       "\n",
       "           attack_succeeded(y/n) suicide_attack(y/n) attack_type target_type  \\\n",
       "date                                                                           \n",
       "2015-01-04                   NaN                 NaN         NaN         NaN   \n",
       "\n",
       "           target_subtype preps_group_name affiliated(y/n)  no_of_perps  \\\n",
       "date                                                                      \n",
       "2015-01-04            NaN              NaN             NaN          nan   \n",
       "\n",
       "            people_killed  people_wounded weapon_type  \n",
       "date                                                   \n",
       "2015-01-04            nan             nan         NaN  "
      ]
     },
     "execution_count": 388,
     "metadata": {},
     "output_type": "execute_result"
    }
   ],
   "source": [
    "df.head(1)"
   ]
  },
  {
   "cell_type": "code",
   "execution_count": 389,
   "metadata": {},
   "outputs": [],
   "source": [
    "test = df.loc[(df[\"attack(y/n)\"] == True) & (df[\"state\"] != \"Northern Ireland\")].index"
   ]
  },
  {
   "cell_type": "code",
   "execution_count": 390,
   "metadata": {},
   "outputs": [
    {
     "data": {
      "text/plain": [
       "30"
      ]
     },
     "execution_count": 390,
     "metadata": {},
     "output_type": "execute_result"
    }
   ],
   "source": [
    "len(test)"
   ]
  },
  {
   "cell_type": "code",
   "execution_count": 391,
   "metadata": {},
   "outputs": [
    {
     "data": {
      "text/plain": [
       "Explosives    86\n",
       "Incendiary    85\n",
       "Firearms      31\n",
       "Melee         12\n",
       "Other          2\n",
       "Name: weapon_type, dtype: int64"
      ]
     },
     "execution_count": 391,
     "metadata": {},
     "output_type": "execute_result"
    }
   ],
   "source": [
    "df['weapon_type'].value_counts()"
   ]
  },
  {
   "cell_type": "code",
   "execution_count": 392,
   "metadata": {},
   "outputs": [],
   "source": [
    "test1 = df.loc[(df[\"attack(y/n)\"] == True) & (df[\"state\"] != \"Northern Ireland\") & (df[\"weather_condition\"] != \"rain\") & (df[\"weather_condition\"] != \"snow\" ) ].index"
   ]
  },
  {
   "cell_type": "code",
   "execution_count": 393,
   "metadata": {},
   "outputs": [
    {
     "data": {
      "text/plain": [
       "26"
      ]
     },
     "execution_count": 393,
     "metadata": {},
     "output_type": "execute_result"
    }
   ],
   "source": [
    "len(test1)"
   ]
  },
  {
   "cell_type": "code",
   "execution_count": 394,
   "metadata": {},
   "outputs": [
    {
     "data": {
      "text/plain": [
       "clear            317\n",
       "few clouds       173\n",
       "partly cloudy    171\n",
       "rain              82\n",
       "cloudy            31\n",
       "snow               1\n",
       "Name: weather_condition, dtype: int64"
      ]
     },
     "execution_count": 394,
     "metadata": {},
     "output_type": "execute_result"
    }
   ],
   "source": [
    "df[\"weather_condition\"].value_counts()"
   ]
  },
  {
   "cell_type": "code",
   "execution_count": 395,
   "metadata": {},
   "outputs": [
    {
     "data": {
      "text/html": [
       "<div>\n",
       "<style scoped>\n",
       "    .dataframe tbody tr th:only-of-type {\n",
       "        vertical-align: middle;\n",
       "    }\n",
       "\n",
       "    .dataframe tbody tr th {\n",
       "        vertical-align: top;\n",
       "    }\n",
       "\n",
       "    .dataframe thead th {\n",
       "        text-align: right;\n",
       "    }\n",
       "</style>\n",
       "<table border=\"1\" class=\"dataframe\">\n",
       "  <thead>\n",
       "    <tr style=\"text-align: right;\">\n",
       "      <th></th>\n",
       "      <th>bike_rents</th>\n",
       "      <th>temp_actual(C)</th>\n",
       "      <th>temp_feeling(C)</th>\n",
       "      <th>humidity</th>\n",
       "      <th>wind_speed</th>\n",
       "      <th>weather_condition</th>\n",
       "      <th>holiday(y/n)</th>\n",
       "      <th>weekend(y/n)</th>\n",
       "      <th>season</th>\n",
       "      <th>attack(y/n)</th>\n",
       "      <th>state</th>\n",
       "      <th>city</th>\n",
       "      <th>location</th>\n",
       "      <th>event_summary</th>\n",
       "      <th>multiple_perps(y/n)</th>\n",
       "      <th>attack_succeeded(y/n)</th>\n",
       "      <th>suicide_attack(y/n)</th>\n",
       "      <th>attack_type</th>\n",
       "      <th>target_type</th>\n",
       "      <th>target_subtype</th>\n",
       "      <th>preps_group_name</th>\n",
       "      <th>affiliated(y/n)</th>\n",
       "      <th>no_of_perps</th>\n",
       "      <th>people_killed</th>\n",
       "      <th>people_wounded</th>\n",
       "      <th>weapon_type</th>\n",
       "    </tr>\n",
       "    <tr>\n",
       "      <th>date</th>\n",
       "      <th></th>\n",
       "      <th></th>\n",
       "      <th></th>\n",
       "      <th></th>\n",
       "      <th></th>\n",
       "      <th></th>\n",
       "      <th></th>\n",
       "      <th></th>\n",
       "      <th></th>\n",
       "      <th></th>\n",
       "      <th></th>\n",
       "      <th></th>\n",
       "      <th></th>\n",
       "      <th></th>\n",
       "      <th></th>\n",
       "      <th></th>\n",
       "      <th></th>\n",
       "      <th></th>\n",
       "      <th></th>\n",
       "      <th></th>\n",
       "      <th></th>\n",
       "      <th></th>\n",
       "      <th></th>\n",
       "      <th></th>\n",
       "      <th></th>\n",
       "      <th></th>\n",
       "    </tr>\n",
       "  </thead>\n",
       "  <tbody>\n",
       "    <tr>\n",
       "      <td>2015-01-04</td>\n",
       "      <td>9234</td>\n",
       "      <td>2.480</td>\n",
       "      <td>0.650</td>\n",
       "      <td>94.270</td>\n",
       "      <td>7.500</td>\n",
       "      <td>partly cloudy</td>\n",
       "      <td>False</td>\n",
       "      <td>True</td>\n",
       "      <td>winter</td>\n",
       "      <td>False</td>\n",
       "      <td>NaN</td>\n",
       "      <td>NaN</td>\n",
       "      <td>NaN</td>\n",
       "      <td>NaN</td>\n",
       "      <td>NaN</td>\n",
       "      <td>NaN</td>\n",
       "      <td>NaN</td>\n",
       "      <td>NaN</td>\n",
       "      <td>NaN</td>\n",
       "      <td>NaN</td>\n",
       "      <td>NaN</td>\n",
       "      <td>NaN</td>\n",
       "      <td>nan</td>\n",
       "      <td>nan</td>\n",
       "      <td>nan</td>\n",
       "      <td>NaN</td>\n",
       "    </tr>\n",
       "  </tbody>\n",
       "</table>\n",
       "</div>"
      ],
      "text/plain": [
       "            bike_rents  temp_actual(C)  temp_feeling(C)  humidity  wind_speed  \\\n",
       "date                                                                            \n",
       "2015-01-04        9234           2.480            0.650    94.270       7.500   \n",
       "\n",
       "           weather_condition  holiday(y/n)  weekend(y/n)  season  attack(y/n)  \\\n",
       "date                                                                            \n",
       "2015-01-04     partly cloudy         False          True  winter        False   \n",
       "\n",
       "           state city location event_summary multiple_perps(y/n)  \\\n",
       "date                                                               \n",
       "2015-01-04   NaN  NaN      NaN           NaN                 NaN   \n",
       "\n",
       "           attack_succeeded(y/n) suicide_attack(y/n) attack_type target_type  \\\n",
       "date                                                                           \n",
       "2015-01-04                   NaN                 NaN         NaN         NaN   \n",
       "\n",
       "           target_subtype preps_group_name affiliated(y/n)  no_of_perps  \\\n",
       "date                                                                      \n",
       "2015-01-04            NaN              NaN             NaN          nan   \n",
       "\n",
       "            people_killed  people_wounded weapon_type  \n",
       "date                                                   \n",
       "2015-01-04            nan             nan         NaN  "
      ]
     },
     "execution_count": 395,
     "metadata": {},
     "output_type": "execute_result"
    }
   ],
   "source": [
    "df.head(1) "
   ]
  },
  {
   "cell_type": "code",
   "execution_count": 396,
   "metadata": {},
   "outputs": [],
   "source": [
    "mean_rent = int(df[\"bike_rents\"].mean())"
   ]
  },
  {
   "cell_type": "code",
   "execution_count": 397,
   "metadata": {},
   "outputs": [
    {
     "data": {
      "text/plain": [
       "27186"
      ]
     },
     "execution_count": 397,
     "metadata": {},
     "output_type": "execute_result"
    }
   ],
   "source": [
    "mean_rent"
   ]
  },
  {
   "cell_type": "code",
   "execution_count": 398,
   "metadata": {},
   "outputs": [],
   "source": [
    "df_rain = df[df[\"weather_condition\"] == \"rain\"]"
   ]
  },
  {
   "cell_type": "code",
   "execution_count": null,
   "metadata": {},
   "outputs": [],
   "source": []
  },
  {
   "cell_type": "code",
   "execution_count": 399,
   "metadata": {},
   "outputs": [],
   "source": [
    "mean_rain = int(df_rain[\"bike_rents\"].mean())"
   ]
  },
  {
   "cell_type": "code",
   "execution_count": 400,
   "metadata": {},
   "outputs": [
    {
     "data": {
      "text/plain": [
       "18496"
      ]
     },
     "execution_count": 400,
     "metadata": {},
     "output_type": "execute_result"
    }
   ],
   "source": [
    "mean_rain"
   ]
  },
  {
   "cell_type": "code",
   "execution_count": 401,
   "metadata": {},
   "outputs": [
    {
     "data": {
      "text/plain": [
       "-8690"
      ]
     },
     "execution_count": 401,
     "metadata": {},
     "output_type": "execute_result"
    }
   ],
   "source": [
    "mean_rain - mean_rent"
   ]
  },
  {
   "cell_type": "code",
   "execution_count": 402,
   "metadata": {},
   "outputs": [],
   "source": [
    "weather_values = list(dict(df[\"weather_condition\"].value_counts()).keys())"
   ]
  },
  {
   "cell_type": "code",
   "execution_count": 403,
   "metadata": {},
   "outputs": [
    {
     "name": "stdout",
     "output_type": "stream",
     "text": [
      "-3224\n",
      "-1153\n",
      "2069\n",
      "8690\n",
      "4514\n",
      "15424\n"
     ]
    }
   ],
   "source": [
    "diffrence_from_mean = {} \n",
    "for weather_condition in weather_values:\n",
    "    df_WC = df[df[\"weather_condition\"] == weather_condition].copy()\n",
    "    diff_WC_from_mean = mean_rent - int(df_WC[\"bike_rents\"].mean())\n",
    "    print(diff_WC_from_mean)\n",
    "    diffrence_from_mean[weather_condition] = diff_WC_from_mean"
   ]
  },
  {
   "cell_type": "code",
   "execution_count": 404,
   "metadata": {},
   "outputs": [
    {
     "data": {
      "text/plain": [
       "{'clear': -3224,\n",
       " 'few clouds': -1153,\n",
       " 'partly cloudy': 2069,\n",
       " 'rain': 8690,\n",
       " 'cloudy': 4514,\n",
       " 'snow': 15424}"
      ]
     },
     "execution_count": 404,
     "metadata": {},
     "output_type": "execute_result"
    }
   ],
   "source": [
    "diffrence_from_mean"
   ]
  },
  {
   "cell_type": "code",
   "execution_count": 405,
   "metadata": {},
   "outputs": [],
   "source": [
    "df_WC = df[[ \"bike_rents\", 'attack(y/n)', \"weather_condition\"]].copy()\n",
    "df_WC = df_WC.loc[~df_WC.index.duplicated(keep='first')]"
   ]
  },
  {
   "cell_type": "code",
   "execution_count": 406,
   "metadata": {},
   "outputs": [
    {
     "data": {
      "text/html": [
       "<div>\n",
       "<style scoped>\n",
       "    .dataframe tbody tr th:only-of-type {\n",
       "        vertical-align: middle;\n",
       "    }\n",
       "\n",
       "    .dataframe tbody tr th {\n",
       "        vertical-align: top;\n",
       "    }\n",
       "\n",
       "    .dataframe thead th {\n",
       "        text-align: right;\n",
       "    }\n",
       "</style>\n",
       "<table border=\"1\" class=\"dataframe\">\n",
       "  <thead>\n",
       "    <tr style=\"text-align: right;\">\n",
       "      <th></th>\n",
       "      <th>bike_rents</th>\n",
       "      <th>attack(y/n)</th>\n",
       "      <th>weather_condition</th>\n",
       "    </tr>\n",
       "    <tr>\n",
       "      <th>date</th>\n",
       "      <th></th>\n",
       "      <th></th>\n",
       "      <th></th>\n",
       "    </tr>\n",
       "  </thead>\n",
       "  <tbody>\n",
       "    <tr>\n",
       "      <td>2015-01-04</td>\n",
       "      <td>9234</td>\n",
       "      <td>False</td>\n",
       "      <td>partly cloudy</td>\n",
       "    </tr>\n",
       "    <tr>\n",
       "      <td>2015-01-05</td>\n",
       "      <td>20372</td>\n",
       "      <td>True</td>\n",
       "      <td>partly cloudy</td>\n",
       "    </tr>\n",
       "    <tr>\n",
       "      <td>2015-01-06</td>\n",
       "      <td>20613</td>\n",
       "      <td>False</td>\n",
       "      <td>clear</td>\n",
       "    </tr>\n",
       "    <tr>\n",
       "      <td>2015-01-07</td>\n",
       "      <td>21064</td>\n",
       "      <td>False</td>\n",
       "      <td>few clouds</td>\n",
       "    </tr>\n",
       "    <tr>\n",
       "      <td>2015-01-08</td>\n",
       "      <td>15601</td>\n",
       "      <td>True</td>\n",
       "      <td>few clouds</td>\n",
       "    </tr>\n",
       "    <tr>\n",
       "      <td>...</td>\n",
       "      <td>...</td>\n",
       "      <td>...</td>\n",
       "      <td>...</td>\n",
       "    </tr>\n",
       "    <tr>\n",
       "      <td>2016-12-30</td>\n",
       "      <td>11566</td>\n",
       "      <td>True</td>\n",
       "      <td>cloudy</td>\n",
       "    </tr>\n",
       "    <tr>\n",
       "      <td>2016-12-31</td>\n",
       "      <td>11424</td>\n",
       "      <td>False</td>\n",
       "      <td>cloudy</td>\n",
       "    </tr>\n",
       "    <tr>\n",
       "      <td>2017-01-01</td>\n",
       "      <td>6421</td>\n",
       "      <td>False</td>\n",
       "      <td>rain</td>\n",
       "    </tr>\n",
       "    <tr>\n",
       "      <td>2017-01-02</td>\n",
       "      <td>11823</td>\n",
       "      <td>False</td>\n",
       "      <td>clear</td>\n",
       "    </tr>\n",
       "    <tr>\n",
       "      <td>2017-01-03</td>\n",
       "      <td>19436</td>\n",
       "      <td>False</td>\n",
       "      <td>clear</td>\n",
       "    </tr>\n",
       "  </tbody>\n",
       "</table>\n",
       "<p>730 rows × 3 columns</p>\n",
       "</div>"
      ],
      "text/plain": [
       "            bike_rents  attack(y/n) weather_condition\n",
       "date                                                 \n",
       "2015-01-04        9234        False     partly cloudy\n",
       "2015-01-05       20372         True     partly cloudy\n",
       "2015-01-06       20613        False             clear\n",
       "2015-01-07       21064        False        few clouds\n",
       "2015-01-08       15601         True        few clouds\n",
       "...                ...          ...               ...\n",
       "2016-12-30       11566         True            cloudy\n",
       "2016-12-31       11424        False            cloudy\n",
       "2017-01-01        6421        False              rain\n",
       "2017-01-02       11823        False             clear\n",
       "2017-01-03       19436        False             clear\n",
       "\n",
       "[730 rows x 3 columns]"
      ]
     },
     "execution_count": 406,
     "metadata": {},
     "output_type": "execute_result"
    }
   ],
   "source": [
    "df_WC"
   ]
  },
  {
   "cell_type": "code",
   "execution_count": 407,
   "metadata": {},
   "outputs": [],
   "source": [
    "#factored_rents = lambda "
   ]
  },
  {
   "cell_type": "code",
   "execution_count": 408,
   "metadata": {},
   "outputs": [
    {
     "data": {
      "text/plain": [
       "14448"
      ]
     },
     "execution_count": 408,
     "metadata": {},
     "output_type": "execute_result"
    }
   ],
   "source": [
    "df_WC[\"bike_rents\"][4] + diffrence_from_mean[df_WC[\"weather_condition\"][4]]"
   ]
  },
  {
   "cell_type": "code",
   "execution_count": 409,
   "metadata": {},
   "outputs": [],
   "source": [
    "#df_WC['bike_rents'] = np.where(df.weather_condition, 0, 0)"
   ]
  },
  {
   "cell_type": "code",
   "execution_count": 410,
   "metadata": {},
   "outputs": [],
   "source": [
    "test = df_WC"
   ]
  },
  {
   "cell_type": "code",
   "execution_count": 411,
   "metadata": {},
   "outputs": [],
   "source": [
    "df_WC[\"weather_condition\"] = df_WC[\"weather_condition\"].map(diffrence_from_mean)"
   ]
  },
  {
   "cell_type": "code",
   "execution_count": 412,
   "metadata": {},
   "outputs": [],
   "source": [
    "df_WC = df_WC.assign(WC_factored_rents = lambda x : x[\"bike_rents\"] + x[\"weather_condition\"])"
   ]
  },
  {
   "cell_type": "code",
   "execution_count": 422,
   "metadata": {},
   "outputs": [],
   "source": [
    "def get_rents_counts_WC_fatored(df, date_index, days):\n",
    "    time_ser = get_date_index(date_index , days)\n",
    "    return df['WC_factored_rents'][time_ser]"
   ]
  },
  {
   "cell_type": "code",
   "execution_count": 423,
   "metadata": {},
   "outputs": [],
   "source": [
    "def get_befre_after_df_WC_fatored(df, days = 8):\n",
    "    lst_before_after = [] \n",
    "    # get list of terrorism attack dates from df\n",
    "    lst_of_attacks = get_dates_of_attack_lst(df)\n",
    "    # for each attack date get list of surrounding dates depending on days passed to the function\n",
    "    # and from that list get a a series of bike rent counts for that time period\n",
    "    for elem in lst_of_attacks:\n",
    "        time_series = get_rents_counts_WC_fatored(df, elem, days)\n",
    "        # dealing with missing values at the beginning and the end of the date series by skipping them\n",
    "        if time_series.isnull().sum() != 0:\n",
    "            continue\n",
    "        lst_before_after.append(get_before_after_tup(time_series))\n",
    "    return pd.DataFrame(lst_before_after, columns = [\"before_sum\", \"after_sum\"])"
   ]
  },
  {
   "cell_type": "code",
   "execution_count": 424,
   "metadata": {},
   "outputs": [
    {
     "data": {
      "text/html": [
       "<div>\n",
       "<style scoped>\n",
       "    .dataframe tbody tr th:only-of-type {\n",
       "        vertical-align: middle;\n",
       "    }\n",
       "\n",
       "    .dataframe tbody tr th {\n",
       "        vertical-align: top;\n",
       "    }\n",
       "\n",
       "    .dataframe thead th {\n",
       "        text-align: right;\n",
       "    }\n",
       "</style>\n",
       "<table border=\"1\" class=\"dataframe\">\n",
       "  <thead>\n",
       "    <tr style=\"text-align: right;\">\n",
       "      <th></th>\n",
       "      <th>before_sum</th>\n",
       "      <th>after_sum</th>\n",
       "    </tr>\n",
       "  </thead>\n",
       "  <tbody>\n",
       "    <tr>\n",
       "      <td>0</td>\n",
       "      <td>151071</td>\n",
       "      <td>152641</td>\n",
       "    </tr>\n",
       "    <tr>\n",
       "      <td>1</td>\n",
       "      <td>156089</td>\n",
       "      <td>149344</td>\n",
       "    </tr>\n",
       "    <tr>\n",
       "      <td>2</td>\n",
       "      <td>135135</td>\n",
       "      <td>136436</td>\n",
       "    </tr>\n",
       "    <tr>\n",
       "      <td>3</td>\n",
       "      <td>134342</td>\n",
       "      <td>148664</td>\n",
       "    </tr>\n",
       "    <tr>\n",
       "      <td>4</td>\n",
       "      <td>139949</td>\n",
       "      <td>156358</td>\n",
       "    </tr>\n",
       "    <tr>\n",
       "      <td>...</td>\n",
       "      <td>...</td>\n",
       "      <td>...</td>\n",
       "    </tr>\n",
       "    <tr>\n",
       "      <td>165</td>\n",
       "      <td>172313</td>\n",
       "      <td>188355</td>\n",
       "    </tr>\n",
       "    <tr>\n",
       "      <td>166</td>\n",
       "      <td>174512</td>\n",
       "      <td>174240</td>\n",
       "    </tr>\n",
       "    <tr>\n",
       "      <td>167</td>\n",
       "      <td>184837</td>\n",
       "      <td>159958</td>\n",
       "    </tr>\n",
       "    <tr>\n",
       "      <td>168</td>\n",
       "      <td>189144</td>\n",
       "      <td>102379</td>\n",
       "    </tr>\n",
       "    <tr>\n",
       "      <td>169</td>\n",
       "      <td>188712</td>\n",
       "      <td>94970</td>\n",
       "    </tr>\n",
       "  </tbody>\n",
       "</table>\n",
       "<p>170 rows × 2 columns</p>\n",
       "</div>"
      ],
      "text/plain": [
       "     before_sum  after_sum\n",
       "0        151071     152641\n",
       "1        156089     149344\n",
       "2        135135     136436\n",
       "3        134342     148664\n",
       "4        139949     156358\n",
       "..          ...        ...\n",
       "165      172313     188355\n",
       "166      174512     174240\n",
       "167      184837     159958\n",
       "168      189144     102379\n",
       "169      188712      94970\n",
       "\n",
       "[170 rows x 2 columns]"
      ]
     },
     "execution_count": 424,
     "metadata": {},
     "output_type": "execute_result"
    }
   ],
   "source": [
    "get_befre_after_df_WC_fatored(df_WC, 8)"
   ]
  },
  {
   "cell_type": "code",
   "execution_count": 427,
   "metadata": {},
   "outputs": [],
   "source": [
    "def get_diff_factored_WC(df, days = 8):\n",
    "    lst_diff = [] \n",
    "    # get list of terrorism attack dates from df\n",
    "    lst_of_attacks = get_dates_of_attack_lst(df)\n",
    "    # for each attack date get list of surrounding dates depending on days passed to the function\n",
    "    # and from that list get a a series of bike rent counts for that time period\n",
    "    for elem in lst_of_attacks:\n",
    "        time_series = get_rents_counts_WC_fatored(df, elem, days)\n",
    "        # dealing with missing values at the beginning and the end of the date series by skipping them\n",
    "        if time_series.isnull().sum() != 0:\n",
    "            continue\n",
    "        lst_diff.append(get_diff(time_series))\n",
    "    return sum(lst_diff)/len(lst_diff)\n"
   ]
  },
  {
   "cell_type": "code",
   "execution_count": 428,
   "metadata": {},
   "outputs": [
    {
     "data": {
      "text/plain": [
       "-638.4529411764706"
      ]
     },
     "execution_count": 428,
     "metadata": {},
     "output_type": "execute_result"
    }
   ],
   "source": [
    "get_diff_factored_WC(df_WC, 8)"
   ]
  },
  {
   "cell_type": "code",
   "execution_count": 429,
   "metadata": {},
   "outputs": [
    {
     "data": {
      "text/plain": [
       "-1032.156976744186"
      ]
     },
     "execution_count": 429,
     "metadata": {},
     "output_type": "execute_result"
    }
   ],
   "source": [
    "get_diff_factored_WC(df_WC, 4)"
   ]
  },
  {
   "cell_type": "code",
   "execution_count": 430,
   "metadata": {},
   "outputs": [
    {
     "data": {
      "text/plain": [
       "-89.99421965317919"
      ]
     },
     "execution_count": 430,
     "metadata": {},
     "output_type": "execute_result"
    }
   ],
   "source": [
    "get_diff_factored_WC(df_WC, 3)"
   ]
  },
  {
   "cell_type": "code",
   "execution_count": null,
   "metadata": {},
   "outputs": [],
   "source": []
  }
 ],
 "metadata": {
  "kernelspec": {
   "display_name": "Python 3",
   "language": "python",
   "name": "python3"
  },
  "language_info": {
   "codemirror_mode": {
    "name": "ipython",
    "version": 3
   },
   "file_extension": ".py",
   "mimetype": "text/x-python",
   "name": "python",
   "nbconvert_exporter": "python",
   "pygments_lexer": "ipython3",
   "version": "3.7.3"
  }
 },
 "nbformat": 4,
 "nbformat_minor": 2
}
