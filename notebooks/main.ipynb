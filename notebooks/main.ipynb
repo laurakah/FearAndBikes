{
 "cells": [
  {
   "cell_type": "code",
   "execution_count": 373,
   "metadata": {},
   "outputs": [],
   "source": [
    "import pandas as pd\n",
    "import numpy as np\n",
    "from datetime import datetime as dt\n",
    "\n",
    "# displaying options for data frames\n",
    "pd.set_option(\"display.max_columns\", 5400)\n",
    "pd.set_option(\"display.max_colwidth\", 500)\n",
    "pd.set_option('display.float_format', lambda x: '%.3f' % x)"
   ]
  },
  {
   "cell_type": "markdown",
   "metadata": {},
   "source": [
    "## Preparation of the dataset"
   ]
  },
  {
   "cell_type": "code",
   "execution_count": 374,
   "metadata": {},
   "outputs": [],
   "source": [
    "# reading clean data sets into dataframes\n",
    "bike_data = pd.read_csv(\"../data_clean/london_merged_clean.csv\", encoding = \"ISO-8859-1\")\n",
    "terrorism_data = pd.read_csv(\"../data_clean/global_terrorism_clean_uk_only.csv\" , encoding = 'utf-8') #\"ISO-8859-1\")"
   ]
  },
  {
   "cell_type": "code",
   "execution_count": 375,
   "metadata": {},
   "outputs": [],
   "source": [
    "# dropping duplicate index column from terrorism_data\n",
    "terrorism_data = terrorism_data.drop([\"Unnamed: 0\"], axis=1)"
   ]
  },
  {
   "cell_type": "code",
   "execution_count": 376,
   "metadata": {},
   "outputs": [],
   "source": [
    "# merging terrorism data set with London bike sharing data set\n",
    "df = bike_data.merge(terrorism_data, how = 'left', on = 'date')"
   ]
  },
  {
   "cell_type": "code",
   "execution_count": 377,
   "metadata": {},
   "outputs": [],
   "source": [
    "# renaming event_id column to have it represent if there has been an incident on the day or not\n",
    "df.rename(columns = {\"event_id\" : \"attack(y/n)\"}, inplace = True)\n",
    "\n",
    "# converting event_id column to boolean\n",
    "df[\"attack(y/n)\"]  = df[\"attack(y/n)\"].replace(np.nan, 'NAN')\n",
    "df[\"attack(y/n)\"] = np.where(df[\"attack(y/n)\"] != \"NAN\", True, False)"
   ]
  },
  {
   "cell_type": "code",
   "execution_count": 378,
   "metadata": {},
   "outputs": [],
   "source": [
    "# converting date column to datetime object\n",
    "df['date'] = pd.to_datetime(df['date'])"
   ]
  },
  {
   "cell_type": "code",
   "execution_count": 379,
   "metadata": {},
   "outputs": [],
   "source": [
    "# setting the date column as index column\n",
    "df = df.set_index(\"date\")"
   ]
  },
  {
   "cell_type": "code",
   "execution_count": 380,
   "metadata": {},
   "outputs": [],
   "source": [
    "# creating a first working dataframe containing only the date as an index, the number of bike rents per day\n",
    "# as well as if there has been an incident on these days or not\n",
    "df_base = df[[ \"bike_rents\", 'attack(y/n)']].copy()"
   ]
  },
  {
   "cell_type": "code",
   "execution_count": 381,
   "metadata": {},
   "outputs": [],
   "source": [
    "# dropping duplicate date index rows\n",
    "df_base = df_base.loc[~df_base.index.duplicated(keep='first')]"
   ]
  },
  {
   "cell_type": "markdown",
   "metadata": {},
   "source": [
    "## Basic analysis"
   ]
  },
  {
   "cell_type": "markdown",
   "metadata": {},
   "source": [
    "### Calculating the mean difference (before/after)"
   ]
  },
  {
   "cell_type": "code",
   "execution_count": 382,
   "metadata": {},
   "outputs": [],
   "source": [
    "# defining function to get all days where terrorism incident occured from giving dataframe\n",
    "def get_dates_of_attack_lst(df):\n",
    "    dates_of_attack = list(df.loc[df[\"attack(y/n)\"] == True].index)\n",
    "    return list(dict.fromkeys(dates_of_attack))"
   ]
  },
  {
   "cell_type": "code",
   "execution_count": 383,
   "metadata": {},
   "outputs": [],
   "source": [
    "# defining function to get all dates before and after the terrorism attack\n",
    "# takes a single (incident) date and the number of days that should be retuned before and after\n",
    "# returns a list of dates\n",
    "def get_date_index(date, days = 8):\n",
    "    date_indexes = []\n",
    "    week_before = list(pd.date_range(end = date, periods = days))\n",
    "    week_after = list(pd.date_range(start = date, periods = days))\n",
    "    for entry in week_before:\n",
    "        date_indexes.append(entry)\n",
    "    for entry in week_after:\n",
    "        date_indexes.append(entry)\n",
    "    return pd.to_datetime(list(dict.fromkeys(date_indexes)))"
   ]
  },
  {
   "cell_type": "code",
   "execution_count": 384,
   "metadata": {},
   "outputs": [],
   "source": [
    "# defining function to get all bike rent count values for a time series\n",
    "# takes a dataframe, a list of dates and the number of days that should be returned before and after the attack\n",
    "# returns a Series containing dates and corresponding bike rent count values\n",
    "def get_rents_counts(df, date_index, days):\n",
    "    time_ser = get_date_index(date_index , days)\n",
    "    return df['bike_rents'][time_ser]"
   ]
  },
  {
   "cell_type": "code",
   "execution_count": 385,
   "metadata": {},
   "outputs": [],
   "source": [
    "# defining function to calculate the difference between the sum of bike rent count values before an incident \n",
    "# and after an incident\n",
    "# takes a Series containing bike rent count values\n",
    "# returns the difference as an integer\n",
    "def get_diff(ser):\n",
    "    chunk_size = len(ser)//2\n",
    "    before_sum = sum(ser[0:chunk_size])\n",
    "    after_sum =  sum(ser[(chunk_size+1):len(ser)])\n",
    "    return after_sum - before_sum "
   ]
  },
  {
   "cell_type": "code",
   "execution_count": 386,
   "metadata": {},
   "outputs": [],
   "source": [
    "# defining a function which processes a dataframe to get the mean difference between before and after incident \n",
    "# bike rents\n",
    "# takes a dataframe and the number of days to look at before and after an incident\n",
    "# returns the mean difference of before and after incident bike rent counts as an integer\n",
    "def get_diff_df(df, days = 8):\n",
    "    lst_diff = [] \n",
    "    # get list of terrorism attack dates from df\n",
    "    lst_of_attacks = get_dates_of_attack_lst(df)\n",
    "    # for each attack date get list of surrounding dates depending on days passed to the function\n",
    "    # and from that list get a a series of bike rent counts for that time period\n",
    "    for elem in lst_of_attacks:\n",
    "        time_series = get_rents_counts(df, elem, days)\n",
    "        # dealing with missing values at the beginning and the end of the date series by skipping them\n",
    "        if time_series.isnull().sum() != 0:\n",
    "            continue\n",
    "        lst_diff.append(get_diff(time_series))\n",
    "    return sum(lst_diff)/len(lst_diff)"
   ]
  },
  {
   "cell_type": "code",
   "execution_count": 387,
   "metadata": {},
   "outputs": [
    {
     "name": "stdout",
     "output_type": "stream",
     "text": [
      "Mean difference for 14 days:  415.07738095238096\n",
      "Mean difference for 12 days:  -226.20118343195267\n",
      "Mean difference for 8 days:  -1360.7882352941176\n",
      "Mean difference for 4 days:  -1310.3139534883721\n",
      "Mean difference for 3 days:  181.27167630057804\n",
      "Mean difference for 2 days:  504.7586206896552\n"
     ]
    }
   ],
   "source": [
    "# testing mean difference values for different time spans\n",
    "print(\"Mean difference for 14 days: \", get_diff_df(df_base, 14))\n",
    "print(\"Mean difference for 12 days: \", get_diff_df(df_base, 12))\n",
    "print(\"Mean difference for 8 days: \", get_diff_df(df_base, 8))\n",
    "print(\"Mean difference for 4 days: \", get_diff_df(df_base, 4))\n",
    "print(\"Mean difference for 3 days: \", get_diff_df(df_base, 3))\n",
    "print(\"Mean difference for 2 days: \", get_diff_df(df_base, 2))"
   ]
  },
  {
   "cell_type": "markdown",
   "metadata": {},
   "source": [
    "### Attempt for a pearson correlation"
   ]
  },
  {
   "cell_type": "code",
   "execution_count": 388,
   "metadata": {},
   "outputs": [],
   "source": [
    "# defining function to get bike rent count values for before and after an incident as a tuple\n",
    "# takes a Series of bike rent count values\n",
    "# returns a tuple holding before and after count values as integers\n",
    "def get_before_after_tup(ser):\n",
    "    lst_b_a = []\n",
    "    chunk_size = len(ser)//2\n",
    "    lst_b_a.append(sum(ser[0:chunk_size]))\n",
    "    lst_b_a.append(sum(ser[(chunk_size+1):len(ser)]))\n",
    "    return tuple(lst_b_a) "
   ]
  },
  {
   "cell_type": "code",
   "execution_count": 389,
   "metadata": {},
   "outputs": [],
   "source": [
    "# defining a function which processes a dataframe to get the bike rent count values for before and after \n",
    "# an incident occured\n",
    "# takes a dataframe and the number of days to look at before and after an incident\n",
    "# returns a dataframe containing columns for before count, after count and date (index)\n",
    "def get_before_after_df(df, days = 8):\n",
    "    lst_before_after = [] \n",
    "    # get list of terrorism attack dates from df\n",
    "    lst_of_attacks = get_dates_of_attack_lst(df)\n",
    "    # for each attack date get list of surrounding dates depending on days passed to the function\n",
    "    # and from that list get a a series of bike rent counts for that time period\n",
    "    for elem in lst_of_attacks:\n",
    "        time_series = get_rents_counts(df, elem, days)\n",
    "        # dealing with missing values at the beginning and the end of the date series by skipping them\n",
    "        if time_series.isnull().sum() != 0:\n",
    "            continue\n",
    "        lst_before_after.append(get_before_after_tup(time_series))\n",
    "    return pd.DataFrame(lst_before_after, columns = [\"before_sum\", \"after_sum\"])"
   ]
  },
  {
   "cell_type": "code",
   "execution_count": 390,
   "metadata": {},
   "outputs": [],
   "source": [
    "# defining a dataframe holding values for bike rent count before and after an incident for the given amount of\n",
    "# days\n",
    "df_corr = get_before_after_df(df_base, 3)"
   ]
  },
  {
   "cell_type": "code",
   "execution_count": 391,
   "metadata": {},
   "outputs": [
    {
     "data": {
      "text/html": [
       "<div>\n",
       "<style scoped>\n",
       "    .dataframe tbody tr th:only-of-type {\n",
       "        vertical-align: middle;\n",
       "    }\n",
       "\n",
       "    .dataframe tbody tr th {\n",
       "        vertical-align: top;\n",
       "    }\n",
       "\n",
       "    .dataframe thead th {\n",
       "        text-align: right;\n",
       "    }\n",
       "</style>\n",
       "<table border=\"1\" class=\"dataframe\">\n",
       "  <thead>\n",
       "    <tr style=\"text-align: right;\">\n",
       "      <th></th>\n",
       "      <th>before_sum</th>\n",
       "      <th>after_sum</th>\n",
       "    </tr>\n",
       "  </thead>\n",
       "  <tbody>\n",
       "    <tr>\n",
       "      <th>before_sum</th>\n",
       "      <td>1.000</td>\n",
       "      <td>0.574</td>\n",
       "    </tr>\n",
       "    <tr>\n",
       "      <th>after_sum</th>\n",
       "      <td>0.574</td>\n",
       "      <td>1.000</td>\n",
       "    </tr>\n",
       "  </tbody>\n",
       "</table>\n",
       "</div>"
      ],
      "text/plain": [
       "            before_sum  after_sum\n",
       "before_sum       1.000      0.574\n",
       "after_sum        0.574      1.000"
      ]
     },
     "execution_count": 391,
     "metadata": {},
     "output_type": "execute_result"
    }
   ],
   "source": [
    "# trying to visualize a pearson correlation matrix to see if we can draw conclusions from this\n",
    "df_corr.corr(method=\"pearson\")"
   ]
  },
  {
   "cell_type": "markdown",
   "metadata": {},
   "source": [
    "## Excluding incidents happened in Northern Ireland"
   ]
  },
  {
   "cell_type": "code",
   "execution_count": 392,
   "metadata": {},
   "outputs": [],
   "source": [
    "# defining new dataframe containing date (index), bike rent counts, whether there has been an incident and\n",
    "# state/area where the incident took place\n",
    "df_wo_ni = df[[ \"bike_rents\", 'attack(y/n)', 'state']].copy()"
   ]
  },
  {
   "cell_type": "code",
   "execution_count": 393,
   "metadata": {},
   "outputs": [],
   "source": [
    "# dropping duplicate index rows\n",
    "df_wo_ni = df_wo_ni.loc[~df_wo_ni.index.duplicated(keep='first')]"
   ]
  },
  {
   "cell_type": "code",
   "execution_count": 394,
   "metadata": {},
   "outputs": [],
   "source": [
    "# defining a function which processes a dataframe to get the mean difference between before and after incident \n",
    "# bike rents, filtering by incident, excluding incidents happend in Northern Ireland\n",
    "# takes a dataframe and the number of days to look at before and after an incident\n",
    "# returns the mean difference of before and after incident bike rent counts as an integer\n",
    "def get_diff_df_wo_ni(df, days = 8):\n",
    "    lst_diff = [] \n",
    "    # get list of terrorism attack dates from df\n",
    "    lst_of_attacks = list(df.loc[(df[\"attack(y/n)\"] == True) & (df[\"state\"] != \"Northern Ireland\")].index)\n",
    "    lst_of_attacks = list(dict.fromkeys(lst_of_attacks))\n",
    "    # for each attack date get list of surrounding dates depending on days passed to the function\n",
    "    # and from that list get a a series of bike rent counts for that time period\n",
    "    for elem in lst_of_attacks:\n",
    "        time_series = get_rents_counts(df, elem, days)\n",
    "        # dealing with missing values at the beginning and the end of the date series by skipping them\n",
    "        if time_series.isnull().sum() != 0:\n",
    "            continue\n",
    "        lst_diff.append(get_diff(time_series))\n",
    "    return sum(lst_diff)/len(lst_diff)"
   ]
  },
  {
   "cell_type": "code",
   "execution_count": 395,
   "metadata": {},
   "outputs": [
    {
     "name": "stdout",
     "output_type": "stream",
     "text": [
      "Mean difference for 14 days:  3956.923076923077\n",
      "Mean difference for 12 days:  282.11538461538464\n",
      "Mean difference for 8 days:  919.5\n",
      "Mean difference for 4 days:  -1929.423076923077\n",
      "Mean difference for 3 days:  -569.1538461538462\n",
      "Mean difference for 2 days:  197.03846153846155\n"
     ]
    }
   ],
   "source": [
    "# testing mean difference values for different time spans\n",
    "print(\"Mean difference for 14 days: \", get_diff_df_wo_ni(df_wo_ni, 14))\n",
    "print(\"Mean difference for 12 days: \", get_diff_df_wo_ni(df_wo_ni, 12))\n",
    "print(\"Mean difference for 8 days: \", get_diff_df_wo_ni(df_wo_ni, 8))\n",
    "print(\"Mean difference for 4 days: \", get_diff_df_wo_ni(df_wo_ni, 4))\n",
    "print(\"Mean difference for 3 days: \", get_diff_df_wo_ni(df_wo_ni, 3))\n",
    "print(\"Mean difference for 2 days: \", get_diff_df_wo_ni(df_wo_ni, 2))"
   ]
  },
  {
   "cell_type": "markdown",
   "metadata": {},
   "source": [
    "## Attempt to calculate a factor representing the weather conditions"
   ]
  },
  {
   "cell_type": "code",
   "execution_count": 396,
   "metadata": {},
   "outputs": [],
   "source": [
    "# the mean bike rent count value\n",
    "mean_rent = int(df[\"bike_rents\"].mean())"
   ]
  },
  {
   "cell_type": "code",
   "execution_count": 397,
   "metadata": {},
   "outputs": [],
   "source": [
    "# the mean bike rent count value when weather condition is rain\n",
    "df_rain = df[df[\"weather_condition\"] == \"rain\"]\n",
    "mean_rain = int(df_rain[\"bike_rents\"].mean())"
   ]
  },
  {
   "cell_type": "code",
   "execution_count": 398,
   "metadata": {},
   "outputs": [],
   "source": [
    "# difference between the mean bike rent count value and the mean bike rent count value when weather condition\n",
    "# is rain\n",
    "diff = mean_rain - mean_rent"
   ]
  },
  {
   "cell_type": "code",
   "execution_count": 399,
   "metadata": {},
   "outputs": [
    {
     "name": "stdout",
     "output_type": "stream",
     "text": [
      "{'clear': 3224, 'few clouds': 1153, 'partly cloudy': -2069, 'rain': -8690, 'cloudy': -4514, 'snow': -15424}\n"
     ]
    }
   ],
   "source": [
    "# finding the mean bike rent count for every weather condition and calculating the difference to the general\n",
    "# mean bike rent count value\n",
    "weather_values = list(dict(df[\"weather_condition\"].value_counts()).keys())\n",
    "diffrence_from_mean = {} \n",
    "\n",
    "for weather_condition in weather_values:\n",
    "    df_WC = df[df[\"weather_condition\"] == weather_condition].copy()\n",
    "    diff_WC_from_mean = int(df_WC[\"bike_rents\"].mean()) - mean_rent\n",
    "    diffrence_from_mean[weather_condition] = diff_WC_from_mean\n",
    "    \n",
    "print(diffrence_from_mean)"
   ]
  },
  {
   "cell_type": "code",
   "execution_count": 400,
   "metadata": {},
   "outputs": [],
   "source": [
    "# creating new dataframe holding date (index), bike rent count, attack(True/False) and weather condition\n",
    "df_WC = df[[ \"bike_rents\", 'attack(y/n)', \"weather_condition\"]].copy()\n",
    "\n",
    "# dropping duplicate index rows\n",
    "df_WC = df_WC.loc[~df_WC.index.duplicated(keep='first')]"
   ]
  },
  {
   "cell_type": "code",
   "execution_count": 401,
   "metadata": {},
   "outputs": [],
   "source": [
    "# applying the calculated weather factor to the dataframe\n",
    "df_WC[\"weather_condition\"] = df_WC[\"weather_condition\"].map(diffrence_from_mean)\n",
    "df_WC = df_WC.assign(WC_factored_rents = lambda x : x[\"bike_rents\"] + x[\"weather_condition\"])"
   ]
  },
  {
   "cell_type": "code",
   "execution_count": 402,
   "metadata": {},
   "outputs": [],
   "source": [
    "# defining function to get all bike rent count values for a time series\n",
    "# takes a dataframe, a list of dates and the number of days that should be returned before and after the attack\n",
    "# returns a Series containing dates and corresponding weather factorized bike rent count\n",
    "def get_rents_counts_WC_fatored(df, date_index, days):\n",
    "    time_ser = get_date_index(date_index , days)\n",
    "    return df['WC_factored_rents'][time_ser]"
   ]
  },
  {
   "cell_type": "code",
   "execution_count": 410,
   "metadata": {},
   "outputs": [],
   "source": [
    "# defining a function which processes a dataframe to get the bike rent count values for before and after \n",
    "# an incident occured factorized with the weather conditions\n",
    "# takes a dataframe and the number of days to look at before and after an incident\n",
    "# returns a dataframe containing columns for before count, after count and date (index)\n",
    "def get_before_after_df_WC_factored(df, days = 8):\n",
    "    lst_before_after = [] \n",
    "    # get list of terrorism attack dates from df\n",
    "    lst_of_attacks = get_dates_of_attack_lst(df)\n",
    "    # for each attack date get list of surrounding dates depending on days passed to the function\n",
    "    # and from that list get a a series of bike rent counts for that time period\n",
    "    for elem in lst_of_attacks:\n",
    "        time_series = get_rents_counts_WC_fatored(df, elem, days)\n",
    "        # dealing with missing values at the beginning and the end of the date series by skipping them\n",
    "        if time_series.isnull().sum() != 0:\n",
    "            continue\n",
    "        lst_before_after.append(get_before_after_tup(time_series))\n",
    "    return pd.DataFrame(lst_before_after, columns = [\"before_sum\", \"after_sum\"])"
   ]
  },
  {
   "cell_type": "code",
   "execution_count": 405,
   "metadata": {},
   "outputs": [],
   "source": [
    "# defining a function which processes a dataframe to get the mean difference between before and after incident \n",
    "# weather factorized bike rents\n",
    "# takes a dataframe and the number of days to look at before and after an incident\n",
    "# returns the mean difference of before and after incident bike rent counts as an integer\n",
    "def get_diff_factored_WC(df, days = 8):\n",
    "    lst_diff = [] \n",
    "    # get list of terrorism attack dates from df\n",
    "    lst_of_attacks = get_dates_of_attack_lst(df)\n",
    "    # for each attack date get list of surrounding dates depending on days passed to the function\n",
    "    # and from that list get a a series of bike rent counts for that time period\n",
    "    for elem in lst_of_attacks:\n",
    "        time_series = get_rents_counts_WC_fatored(df, elem, days)\n",
    "        # dealing with missing values at the beginning and the end of the date series by skipping them\n",
    "        if time_series.isnull().sum() != 0:\n",
    "            continue\n",
    "        lst_diff.append(get_diff(time_series))\n",
    "    return sum(lst_diff)/len(lst_diff)\n"
   ]
  },
  {
   "cell_type": "code",
   "execution_count": 412,
   "metadata": {},
   "outputs": [
    {
     "name": "stdout",
     "output_type": "stream",
     "text": [
      "Mean difference for 14 days:  867.4642857142857\n",
      "Mean difference for 12 days:  -148.92899408284023\n",
      "Mean difference for 8 days:  -2083.1235294117646\n",
      "Mean difference for 4 days:  -1588.4709302325582\n",
      "Mean difference for 3 days:  452.53757225433526\n",
      "Mean difference for 2 days:  1080.8333333333333\n"
     ]
    }
   ],
   "source": [
    "# testing mean difference values for different time spans\n",
    "print(\"Mean difference for 14 days: \", get_diff_factored_WC(df_WC, 14))\n",
    "print(\"Mean difference for 12 days: \", get_diff_factored_WC(df_WC, 12))\n",
    "print(\"Mean difference for 8 days: \", get_diff_factored_WC(df_WC, 8))\n",
    "print(\"Mean difference for 4 days: \", get_diff_factored_WC(df_WC, 4))\n",
    "print(\"Mean difference for 3 days: \", get_diff_factored_WC(df_WC, 3))\n",
    "print(\"Mean difference for 2 days: \", get_diff_factored_WC(df_WC, 2))"
   ]
  }
 ],
 "metadata": {
  "kernelspec": {
   "display_name": "Python 3",
   "language": "python",
   "name": "python3"
  },
  "language_info": {
   "codemirror_mode": {
    "name": "ipython",
    "version": 3
   },
   "file_extension": ".py",
   "mimetype": "text/x-python",
   "name": "python",
   "nbconvert_exporter": "python",
   "pygments_lexer": "ipython3",
   "version": "3.7.3"
  }
 },
 "nbformat": 4,
 "nbformat_minor": 2
}
