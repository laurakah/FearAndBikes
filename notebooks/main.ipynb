{
 "cells": [
  {
   "cell_type": "code",
   "execution_count": 186,
   "metadata": {},
   "outputs": [],
   "source": [
    "import pandas as pd\n",
    "import numpy as np\n",
    "from datetime import datetime as dt\n",
    "\n",
    "# displaying options for data frames\n",
    "pd.set_option(\"display.max_columns\", 5400)\n",
    "pd.set_option(\"display.max_colwidth\", 500)\n",
    "pd.set_option('display.float_format', lambda x: '%.3f' % x)"
   ]
  },
  {
   "cell_type": "code",
   "execution_count": 187,
   "metadata": {},
   "outputs": [],
   "source": [
    "bike_data = pd.read_csv(\"../data_clean/london_merged_clean.csv\", encoding = \"ISO-8859-1\")\n",
    "terrorism_data = pd.read_csv(\"../data_clean/global_terrorism_clean_uk_only.csv\" , encoding = 'utf-8') #\"ISO-8859-1\")"
   ]
  },
  {
   "cell_type": "code",
   "execution_count": 188,
   "metadata": {},
   "outputs": [],
   "source": [
    "terrorism_data = terrorism_data.drop([\"Unnamed: 0\"], axis=1)"
   ]
  },
  {
   "cell_type": "code",
   "execution_count": 189,
   "metadata": {},
   "outputs": [],
   "source": [
    "df = bike_data.merge(terrorism_data, how = 'left', on = 'date')"
   ]
  },
  {
   "cell_type": "code",
   "execution_count": 190,
   "metadata": {},
   "outputs": [],
   "source": [
    "df[\"event_id\"]  = df[\"event_id\"].replace(np.nan, 'NAN')"
   ]
  },
  {
   "cell_type": "code",
   "execution_count": 191,
   "metadata": {},
   "outputs": [],
   "source": [
    "df[\"event_id\"] = np.where(df[\"event_id\"] != \"NAN\", True, False)"
   ]
  },
  {
   "cell_type": "code",
   "execution_count": 192,
   "metadata": {},
   "outputs": [],
   "source": [
    "df.rename(columns = {\"event_id\" : \"attack(y/n)\"}, inplace = True)"
   ]
  },
  {
   "cell_type": "code",
   "execution_count": 193,
   "metadata": {},
   "outputs": [],
   "source": [
    "df['date'] = pd.to_datetime(df['date'])"
   ]
  },
  {
   "cell_type": "code",
   "execution_count": 194,
   "metadata": {},
   "outputs": [],
   "source": [
    "df = df.set_index(\"date\")"
   ]
  },
  {
   "cell_type": "code",
   "execution_count": 195,
   "metadata": {},
   "outputs": [],
   "source": [
    "df_base = df[[ \"bike_rents\", 'attack(y/n)']].copy()"
   ]
  },
  {
   "cell_type": "code",
   "execution_count": 196,
   "metadata": {},
   "outputs": [],
   "source": [
    "df_base\n",
    "\n",
    "# dropping duplicate date index rows\n",
    "df_base = df_base.loc[~df_base.index.duplicated(keep='first')]"
   ]
  },
  {
   "cell_type": "code",
   "execution_count": 197,
   "metadata": {},
   "outputs": [],
   "source": [
    "def get_dates_of_attack_lst(df):\n",
    "    dates_of_attack = list(df.loc[df[\"attack(y/n)\"] == True].index)\n",
    "    return list(dict.fromkeys(dates_of_attack))\n",
    "    "
   ]
  },
  {
   "cell_type": "code",
   "execution_count": 198,
   "metadata": {},
   "outputs": [],
   "source": [
    "def get_date_index(date, days = 8):\n",
    "    date_indexes = []\n",
    "    week_before = list(pd.date_range(end = date, periods = days))\n",
    "    week_after = list(pd.date_range(start = date, periods = days))\n",
    "    for entry in week_before:\n",
    "        date_indexes.append(entry)\n",
    "    for entry in week_after:\n",
    "        date_indexes.append(entry)\n",
    "    return pd.to_datetime(list(dict.fromkeys(date_indexes)))"
   ]
  },
  {
   "cell_type": "code",
   "execution_count": 199,
   "metadata": {},
   "outputs": [],
   "source": [
    "def get_rents_counts(df, date_index, days):\n",
    "    time_ser = get_date_index(date_index , days)\n",
    "    return df['bike_rents'][time_ser]"
   ]
  },
  {
   "cell_type": "code",
   "execution_count": 200,
   "metadata": {},
   "outputs": [],
   "source": [
    "def get_diff(ser):\n",
    "    chunk_size = len(ser)//2\n",
    "    before_sum = sum(ser[0:chunk_size])\n",
    "    after_sum =  sum(ser[(chunk_size+1):len(ser)])\n",
    "    return after_sum - before_sum "
   ]
  },
  {
   "cell_type": "code",
   "execution_count": 201,
   "metadata": {},
   "outputs": [],
   "source": [
    "def get_diff_df(df, days = 8):\n",
    "    lst_diff = [] \n",
    "    # get list of terrorism attack dates from df\n",
    "    lst_of_attacks = get_dates_of_attack_lst(df)\n",
    "    # for each attack date get list of surrounding dates depending on days passed to the function\n",
    "    # and from that list get a a series of bike rent counts for that time period\n",
    "    for elem in lst_of_attacks:\n",
    "        time_series = get_rents_counts(df, elem, days)\n",
    "        # dealing with missing values at the beginning and the end of the date series by skipping them\n",
    "        if time_series.isnull().sum() != 0:\n",
    "            continue\n",
    "        lst_diff.append(get_diff(time_series))\n",
    "    return sum(lst_diff)/len(lst_diff)\n"
   ]
  },
  {
   "cell_type": "code",
   "execution_count": 209,
   "metadata": {},
   "outputs": [
    {
     "data": {
      "text/plain": [
       "-226.20118343195267"
      ]
     },
     "execution_count": 209,
     "metadata": {},
     "output_type": "execute_result"
    }
   ],
   "source": [
    "get_diff_df(df_base, 12)"
   ]
  },
  {
   "cell_type": "code",
   "execution_count": 202,
   "metadata": {},
   "outputs": [
    {
     "data": {
      "text/plain": [
       "-1360.7882352941176"
      ]
     },
     "execution_count": 202,
     "metadata": {},
     "output_type": "execute_result"
    }
   ],
   "source": [
    "get_diff_df(df_base, 8)"
   ]
  },
  {
   "cell_type": "code",
   "execution_count": 203,
   "metadata": {},
   "outputs": [
    {
     "data": {
      "text/plain": [
       "-1310.3139534883721"
      ]
     },
     "execution_count": 203,
     "metadata": {},
     "output_type": "execute_result"
    }
   ],
   "source": [
    "get_diff_df(df_base, 4)"
   ]
  },
  {
   "cell_type": "code",
   "execution_count": 207,
   "metadata": {},
   "outputs": [
    {
     "data": {
      "text/plain": [
       "181.27167630057804"
      ]
     },
     "execution_count": 207,
     "metadata": {},
     "output_type": "execute_result"
    }
   ],
   "source": [
    "get_diff_df(df_base, 3)"
   ]
  },
  {
   "cell_type": "code",
   "execution_count": 208,
   "metadata": {},
   "outputs": [
    {
     "data": {
      "text/plain": [
       "504.7586206896552"
      ]
     },
     "execution_count": 208,
     "metadata": {},
     "output_type": "execute_result"
    }
   ],
   "source": [
    "get_diff_df(df_base, 2)"
   ]
  },
  {
   "cell_type": "code",
   "execution_count": 204,
   "metadata": {},
   "outputs": [],
   "source": [
    "def get_before_after_tup(ser):\n",
    "    lst_b_a = []\n",
    "    chunk_size = len(ser)//2\n",
    "    lst_b_a.append(sum(ser[0:chunk_size]))\n",
    "    lst_b_a.append(sum(ser[(chunk_size+1):len(ser)]))\n",
    "    return tuple(lst_b_a) "
   ]
  },
  {
   "cell_type": "code",
   "execution_count": 211,
   "metadata": {},
   "outputs": [],
   "source": [
    "def get_befre_after_df(df, days = 8):\n",
    "    lst_before_after = [] \n",
    "    # get list of terrorism attack dates from df\n",
    "    lst_of_attacks = get_dates_of_attack_lst(df)\n",
    "    # for each attack date get list of surrounding dates depending on days passed to the function\n",
    "    # and from that list get a a series of bike rent counts for that time period\n",
    "    for elem in lst_of_attacks:\n",
    "        time_series = get_rents_counts(df, elem, days)\n",
    "        # dealing with missing values at the beginning and the end of the date series by skipping them\n",
    "        if time_series.isnull().sum() != 0:\n",
    "            continue\n",
    "        lst_before_after.append(get_before_after_tup(time_series))\n",
    "    return pd.DataFrame(lst_before_after, columns = [\"before_sum\", \"after_sum\"])"
   ]
  },
  {
   "cell_type": "code",
   "execution_count": 229,
   "metadata": {},
   "outputs": [],
   "source": [
    "df_corr = get_befre_after_df(df_base, 3)"
   ]
  },
  {
   "cell_type": "code",
   "execution_count": 230,
   "metadata": {},
   "outputs": [
    {
     "data": {
      "text/html": [
       "<div>\n",
       "<style scoped>\n",
       "    .dataframe tbody tr th:only-of-type {\n",
       "        vertical-align: middle;\n",
       "    }\n",
       "\n",
       "    .dataframe tbody tr th {\n",
       "        vertical-align: top;\n",
       "    }\n",
       "\n",
       "    .dataframe thead th {\n",
       "        text-align: right;\n",
       "    }\n",
       "</style>\n",
       "<table border=\"1\" class=\"dataframe\">\n",
       "  <thead>\n",
       "    <tr style=\"text-align: right;\">\n",
       "      <th></th>\n",
       "      <th>before_sum</th>\n",
       "      <th>after_sum</th>\n",
       "    </tr>\n",
       "  </thead>\n",
       "  <tbody>\n",
       "    <tr>\n",
       "      <td>before_sum</td>\n",
       "      <td>1.000</td>\n",
       "      <td>0.574</td>\n",
       "    </tr>\n",
       "    <tr>\n",
       "      <td>after_sum</td>\n",
       "      <td>0.574</td>\n",
       "      <td>1.000</td>\n",
       "    </tr>\n",
       "  </tbody>\n",
       "</table>\n",
       "</div>"
      ],
      "text/plain": [
       "            before_sum  after_sum\n",
       "before_sum       1.000      0.574\n",
       "after_sum        0.574      1.000"
      ]
     },
     "execution_count": 230,
     "metadata": {},
     "output_type": "execute_result"
    }
   ],
   "source": [
    "df_corr.corr(method=\"pearson\")"
   ]
  },
  {
   "cell_type": "code",
   "execution_count": 214,
   "metadata": {},
   "outputs": [
    {
     "data": {
      "text/html": [
       "<div>\n",
       "<style scoped>\n",
       "    .dataframe tbody tr th:only-of-type {\n",
       "        vertical-align: middle;\n",
       "    }\n",
       "\n",
       "    .dataframe tbody tr th {\n",
       "        vertical-align: top;\n",
       "    }\n",
       "\n",
       "    .dataframe thead th {\n",
       "        text-align: right;\n",
       "    }\n",
       "</style>\n",
       "<table border=\"1\" class=\"dataframe\">\n",
       "  <thead>\n",
       "    <tr style=\"text-align: right;\">\n",
       "      <th></th>\n",
       "      <th>bike_rents</th>\n",
       "      <th>temp_actual(C)</th>\n",
       "      <th>temp_feeling(C)</th>\n",
       "      <th>humidity</th>\n",
       "      <th>wind_speed</th>\n",
       "      <th>weather_condition</th>\n",
       "      <th>holiday(y/n)</th>\n",
       "      <th>weekend(y/n)</th>\n",
       "      <th>season</th>\n",
       "      <th>attack(y/n)</th>\n",
       "      <th>state</th>\n",
       "      <th>city</th>\n",
       "      <th>location</th>\n",
       "      <th>event_summary</th>\n",
       "      <th>multiple_perps(y/n)</th>\n",
       "      <th>attack_succeeded(y/n)</th>\n",
       "      <th>suicide_attack(y/n)</th>\n",
       "      <th>attack_type</th>\n",
       "      <th>target_type</th>\n",
       "      <th>target_subtype</th>\n",
       "      <th>preps_group_name</th>\n",
       "      <th>affiliated(y/n)</th>\n",
       "      <th>no_of_perps</th>\n",
       "      <th>people_killed</th>\n",
       "      <th>people_wounded</th>\n",
       "      <th>weapon_type</th>\n",
       "    </tr>\n",
       "    <tr>\n",
       "      <th>date</th>\n",
       "      <th></th>\n",
       "      <th></th>\n",
       "      <th></th>\n",
       "      <th></th>\n",
       "      <th></th>\n",
       "      <th></th>\n",
       "      <th></th>\n",
       "      <th></th>\n",
       "      <th></th>\n",
       "      <th></th>\n",
       "      <th></th>\n",
       "      <th></th>\n",
       "      <th></th>\n",
       "      <th></th>\n",
       "      <th></th>\n",
       "      <th></th>\n",
       "      <th></th>\n",
       "      <th></th>\n",
       "      <th></th>\n",
       "      <th></th>\n",
       "      <th></th>\n",
       "      <th></th>\n",
       "      <th></th>\n",
       "      <th></th>\n",
       "      <th></th>\n",
       "      <th></th>\n",
       "    </tr>\n",
       "  </thead>\n",
       "  <tbody>\n",
       "    <tr>\n",
       "      <td>2015-01-04</td>\n",
       "      <td>9234</td>\n",
       "      <td>2.480</td>\n",
       "      <td>0.650</td>\n",
       "      <td>94.270</td>\n",
       "      <td>7.500</td>\n",
       "      <td>partly cloudy</td>\n",
       "      <td>False</td>\n",
       "      <td>True</td>\n",
       "      <td>winter</td>\n",
       "      <td>False</td>\n",
       "      <td>NaN</td>\n",
       "      <td>NaN</td>\n",
       "      <td>NaN</td>\n",
       "      <td>NaN</td>\n",
       "      <td>NaN</td>\n",
       "      <td>NaN</td>\n",
       "      <td>NaN</td>\n",
       "      <td>NaN</td>\n",
       "      <td>NaN</td>\n",
       "      <td>NaN</td>\n",
       "      <td>NaN</td>\n",
       "      <td>NaN</td>\n",
       "      <td>nan</td>\n",
       "      <td>nan</td>\n",
       "      <td>nan</td>\n",
       "      <td>NaN</td>\n",
       "    </tr>\n",
       "  </tbody>\n",
       "</table>\n",
       "</div>"
      ],
      "text/plain": [
       "            bike_rents  temp_actual(C)  temp_feeling(C)  humidity  wind_speed  \\\n",
       "date                                                                            \n",
       "2015-01-04        9234           2.480            0.650    94.270       7.500   \n",
       "\n",
       "           weather_condition  holiday(y/n)  weekend(y/n)  season  attack(y/n)  \\\n",
       "date                                                                            \n",
       "2015-01-04     partly cloudy         False          True  winter        False   \n",
       "\n",
       "           state city location event_summary multiple_perps(y/n)  \\\n",
       "date                                                               \n",
       "2015-01-04   NaN  NaN      NaN           NaN                 NaN   \n",
       "\n",
       "           attack_succeeded(y/n) suicide_attack(y/n) attack_type target_type  \\\n",
       "date                                                                           \n",
       "2015-01-04                   NaN                 NaN         NaN         NaN   \n",
       "\n",
       "           target_subtype preps_group_name affiliated(y/n)  no_of_perps  \\\n",
       "date                                                                      \n",
       "2015-01-04            NaN              NaN             NaN          nan   \n",
       "\n",
       "            people_killed  people_wounded weapon_type  \n",
       "date                                                   \n",
       "2015-01-04            nan             nan         NaN  "
      ]
     },
     "execution_count": 214,
     "metadata": {},
     "output_type": "execute_result"
    }
   ],
   "source": [
    "df.head(1)"
   ]
  },
  {
   "cell_type": "markdown",
   "metadata": {},
   "source": [
    "## no Northen Ireland"
   ]
  },
  {
   "cell_type": "code",
   "execution_count": null,
   "metadata": {},
   "outputs": [],
   "source": [
    "df_no_NI = df[[ \"bike_rents\", 'attack(y/n)', 'state']].copy()"
   ]
  },
  {
   "cell_type": "code",
   "execution_count": null,
   "metadata": {},
   "outputs": [],
   "source": [
    "df_no_NI"
   ]
  },
  {
   "cell_type": "code",
   "execution_count": 215,
   "metadata": {},
   "outputs": [],
   "source": [
    "def get_diff_df_1(df, days = 8):\n",
    "    lst_diff = [] \n",
    "    # get list of terrorism attack dates from df\n",
    "    lst_of_attacks = list(df.loc[(df[\"attack(y/n)\"] == True) & (df[\"state\"] != \"Northern Ireland\")].index)\n",
    "    lst_of_attacks = list(dict.fromkeys(lst_of_attacks))\n",
    "    # for each attack date get list of surrounding dates depending on days passed to the function\n",
    "    # and from that list get a a series of bike rent counts for that time period\n",
    "    for elem in lst_of_attacks:\n",
    "        time_series = get_rents_counts(df, elem, days)\n",
    "        # dealing with missing values at the beginning and the end of the date series by skipping them\n",
    "        if time_series.isnull().sum() != 0:\n",
    "            continue\n",
    "        lst_diff.append(get_diff(time_series))\n",
    "    return sum(lst_diff)/len(lst_diff)\n",
    "df_no_NI = df_no_NI.loc[~df_no_NI.index.duplicated(keep='first')]"
   ]
  },
  {
   "cell_type": "code",
   "execution_count": 216,
   "metadata": {},
   "outputs": [
    {
     "data": {
      "text/plain": [
       "919.5"
      ]
     },
     "execution_count": 216,
     "metadata": {},
     "output_type": "execute_result"
    }
   ],
   "source": [
    "get_diff_df_1(df_no_NI, 8)"
   ]
  },
  {
   "cell_type": "code",
   "execution_count": 217,
   "metadata": {},
   "outputs": [
    {
     "data": {
      "text/plain": [
       "-1929.423076923077"
      ]
     },
     "execution_count": 217,
     "metadata": {},
     "output_type": "execute_result"
    }
   ],
   "source": [
    "get_diff_df_1(df_no_NI, 4)"
   ]
  },
  {
   "cell_type": "code",
   "execution_count": 218,
   "metadata": {},
   "outputs": [
    {
     "data": {
      "text/plain": [
       "-569.1538461538462"
      ]
     },
     "execution_count": 218,
     "metadata": {},
     "output_type": "execute_result"
    }
   ],
   "source": [
    "get_diff_df_1(df_no_NI, 3)"
   ]
  },
  {
   "cell_type": "code",
   "execution_count": 232,
   "metadata": {},
   "outputs": [
    {
     "data": {
      "text/html": [
       "<div>\n",
       "<style scoped>\n",
       "    .dataframe tbody tr th:only-of-type {\n",
       "        vertical-align: middle;\n",
       "    }\n",
       "\n",
       "    .dataframe tbody tr th {\n",
       "        vertical-align: top;\n",
       "    }\n",
       "\n",
       "    .dataframe thead th {\n",
       "        text-align: right;\n",
       "    }\n",
       "</style>\n",
       "<table border=\"1\" class=\"dataframe\">\n",
       "  <thead>\n",
       "    <tr style=\"text-align: right;\">\n",
       "      <th></th>\n",
       "      <th>bike_rents</th>\n",
       "      <th>temp_actual(C)</th>\n",
       "      <th>temp_feeling(C)</th>\n",
       "      <th>humidity</th>\n",
       "      <th>wind_speed</th>\n",
       "      <th>weather_condition</th>\n",
       "      <th>holiday(y/n)</th>\n",
       "      <th>weekend(y/n)</th>\n",
       "      <th>season</th>\n",
       "      <th>attack(y/n)</th>\n",
       "      <th>state</th>\n",
       "      <th>city</th>\n",
       "      <th>location</th>\n",
       "      <th>event_summary</th>\n",
       "      <th>multiple_perps(y/n)</th>\n",
       "      <th>attack_succeeded(y/n)</th>\n",
       "      <th>suicide_attack(y/n)</th>\n",
       "      <th>attack_type</th>\n",
       "      <th>target_type</th>\n",
       "      <th>target_subtype</th>\n",
       "      <th>preps_group_name</th>\n",
       "      <th>affiliated(y/n)</th>\n",
       "      <th>no_of_perps</th>\n",
       "      <th>people_killed</th>\n",
       "      <th>people_wounded</th>\n",
       "      <th>weapon_type</th>\n",
       "    </tr>\n",
       "    <tr>\n",
       "      <th>date</th>\n",
       "      <th></th>\n",
       "      <th></th>\n",
       "      <th></th>\n",
       "      <th></th>\n",
       "      <th></th>\n",
       "      <th></th>\n",
       "      <th></th>\n",
       "      <th></th>\n",
       "      <th></th>\n",
       "      <th></th>\n",
       "      <th></th>\n",
       "      <th></th>\n",
       "      <th></th>\n",
       "      <th></th>\n",
       "      <th></th>\n",
       "      <th></th>\n",
       "      <th></th>\n",
       "      <th></th>\n",
       "      <th></th>\n",
       "      <th></th>\n",
       "      <th></th>\n",
       "      <th></th>\n",
       "      <th></th>\n",
       "      <th></th>\n",
       "      <th></th>\n",
       "      <th></th>\n",
       "    </tr>\n",
       "  </thead>\n",
       "  <tbody>\n",
       "    <tr>\n",
       "      <td>2015-01-04</td>\n",
       "      <td>9234</td>\n",
       "      <td>2.480</td>\n",
       "      <td>0.650</td>\n",
       "      <td>94.270</td>\n",
       "      <td>7.500</td>\n",
       "      <td>partly cloudy</td>\n",
       "      <td>False</td>\n",
       "      <td>True</td>\n",
       "      <td>winter</td>\n",
       "      <td>False</td>\n",
       "      <td>NaN</td>\n",
       "      <td>NaN</td>\n",
       "      <td>NaN</td>\n",
       "      <td>NaN</td>\n",
       "      <td>NaN</td>\n",
       "      <td>NaN</td>\n",
       "      <td>NaN</td>\n",
       "      <td>NaN</td>\n",
       "      <td>NaN</td>\n",
       "      <td>NaN</td>\n",
       "      <td>NaN</td>\n",
       "      <td>NaN</td>\n",
       "      <td>nan</td>\n",
       "      <td>nan</td>\n",
       "      <td>nan</td>\n",
       "      <td>NaN</td>\n",
       "    </tr>\n",
       "  </tbody>\n",
       "</table>\n",
       "</div>"
      ],
      "text/plain": [
       "            bike_rents  temp_actual(C)  temp_feeling(C)  humidity  wind_speed  \\\n",
       "date                                                                            \n",
       "2015-01-04        9234           2.480            0.650    94.270       7.500   \n",
       "\n",
       "           weather_condition  holiday(y/n)  weekend(y/n)  season  attack(y/n)  \\\n",
       "date                                                                            \n",
       "2015-01-04     partly cloudy         False          True  winter        False   \n",
       "\n",
       "           state city location event_summary multiple_perps(y/n)  \\\n",
       "date                                                               \n",
       "2015-01-04   NaN  NaN      NaN           NaN                 NaN   \n",
       "\n",
       "           attack_succeeded(y/n) suicide_attack(y/n) attack_type target_type  \\\n",
       "date                                                                           \n",
       "2015-01-04                   NaN                 NaN         NaN         NaN   \n",
       "\n",
       "           target_subtype preps_group_name affiliated(y/n)  no_of_perps  \\\n",
       "date                                                                      \n",
       "2015-01-04            NaN              NaN             NaN          nan   \n",
       "\n",
       "            people_killed  people_wounded weapon_type  \n",
       "date                                                   \n",
       "2015-01-04            nan             nan         NaN  "
      ]
     },
     "execution_count": 232,
     "metadata": {},
     "output_type": "execute_result"
    }
   ],
   "source": [
    "df.head(1)"
   ]
  },
  {
   "cell_type": "code",
   "execution_count": 233,
   "metadata": {},
   "outputs": [],
   "source": [
    "test = df.loc[(df[\"attack(y/n)\"] == True) & (df[\"state\"] != \"Northern Ireland\")].index"
   ]
  },
  {
   "cell_type": "code",
   "execution_count": 234,
   "metadata": {},
   "outputs": [
    {
     "data": {
      "text/plain": [
       "30"
      ]
     },
     "execution_count": 234,
     "metadata": {},
     "output_type": "execute_result"
    }
   ],
   "source": [
    "len(test)"
   ]
  },
  {
   "cell_type": "code",
   "execution_count": 235,
   "metadata": {},
   "outputs": [
    {
     "data": {
      "text/plain": [
       "Explosives    86\n",
       "Incendiary    85\n",
       "Firearms      31\n",
       "Melee         12\n",
       "Other          2\n",
       "Name: weapon_type, dtype: int64"
      ]
     },
     "execution_count": 235,
     "metadata": {},
     "output_type": "execute_result"
    }
   ],
   "source": [
    "df['weapon_type'].value_counts()"
   ]
  },
  {
   "cell_type": "code",
   "execution_count": 241,
   "metadata": {},
   "outputs": [],
   "source": [
    "test1 = df.loc[(df[\"attack(y/n)\"] == True) & (df[\"state\"] != \"Northern Ireland\") & (df[\"weather_condition\"] != \"rain\") & (df[\"weather_condition\"] != \"snow\" ) ].index"
   ]
  },
  {
   "cell_type": "code",
   "execution_count": 242,
   "metadata": {},
   "outputs": [
    {
     "data": {
      "text/plain": [
       "26"
      ]
     },
     "execution_count": 242,
     "metadata": {},
     "output_type": "execute_result"
    }
   ],
   "source": [
    "len(test1)"
   ]
  },
  {
   "cell_type": "code",
   "execution_count": 243,
   "metadata": {},
   "outputs": [
    {
     "data": {
      "text/plain": [
       "clear            317\n",
       "few clouds       173\n",
       "partly cloudy    171\n",
       "rain              82\n",
       "cloudy            31\n",
       "snow               1\n",
       "Name: weather_condition, dtype: int64"
      ]
     },
     "execution_count": 243,
     "metadata": {},
     "output_type": "execute_result"
    }
   ],
   "source": [
    "df[\"weather_condition\"].value_counts()"
   ]
  },
  {
   "cell_type": "code",
   "execution_count": null,
   "metadata": {},
   "outputs": [],
   "source": []
  }
 ],
 "metadata": {
  "kernelspec": {
   "display_name": "Python 3",
   "language": "python",
   "name": "python3"
  },
  "language_info": {
   "codemirror_mode": {
    "name": "ipython",
    "version": 3
   },
   "file_extension": ".py",
   "mimetype": "text/x-python",
   "name": "python",
   "nbconvert_exporter": "python",
   "pygments_lexer": "ipython3",
   "version": "3.7.3"
  }
 },
 "nbformat": 4,
 "nbformat_minor": 2
}
