{
 "cells": [
  {
   "cell_type": "code",
   "execution_count": 188,
   "metadata": {},
   "outputs": [],
   "source": [
    "import pandas as pd\n",
    "import numpy as np\n",
    "from datetime import datetime as dt\n",
    "\n",
    "# displaying options for data frames\n",
    "pd.set_option(\"display.max_columns\", 5400)\n",
    "pd.set_option(\"display.max_colwidth\", 500)\n",
    "pd.set_option('display.float_format', lambda x: '%.3f' % x)"
   ]
  },
  {
   "cell_type": "code",
   "execution_count": 189,
   "metadata": {},
   "outputs": [],
   "source": [
    "bike_data = pd.read_csv(\"../data_clean/london_merged_clean.csv\", encoding = \"ISO-8859-1\")\n",
    "terrorism_data = pd.read_csv(\"../data_clean/global_terrorism_clean_uk_only.csv\" , encoding = 'utf-8') #\"ISO-8859-1\")"
   ]
  },
  {
   "cell_type": "code",
   "execution_count": 190,
   "metadata": {},
   "outputs": [],
   "source": [
    "terrorism_data = terrorism_data.drop([\"Unnamed: 0\"], axis=1)"
   ]
  },
  {
   "cell_type": "code",
   "execution_count": 191,
   "metadata": {},
   "outputs": [],
   "source": [
    "df = bike_data.merge(terrorism_data, how = 'left', on = 'date')"
   ]
  },
  {
   "cell_type": "code",
   "execution_count": 192,
   "metadata": {},
   "outputs": [],
   "source": [
    "df[\"event_id\"]  = df[\"event_id\"].replace(np.nan, 'NAN')"
   ]
  },
  {
   "cell_type": "code",
   "execution_count": 193,
   "metadata": {},
   "outputs": [],
   "source": [
    "df[\"event_id\"] = np.where(df[\"event_id\"] != \"NAN\", True, False)"
   ]
  },
  {
   "cell_type": "code",
   "execution_count": 194,
   "metadata": {},
   "outputs": [],
   "source": [
    "df.rename(columns = {\"event_id\" : \"attack(y/n)\"}, inplace = True)"
   ]
  },
  {
   "cell_type": "code",
   "execution_count": 195,
   "metadata": {},
   "outputs": [],
   "source": [
    "df['date'] = pd.to_datetime(df['date'])"
   ]
  },
  {
   "cell_type": "code",
   "execution_count": 196,
   "metadata": {},
   "outputs": [],
   "source": [
    "df = df.set_index(\"date\")"
   ]
  },
  {
   "cell_type": "code",
   "execution_count": 197,
   "metadata": {},
   "outputs": [],
   "source": [
    "df_base = df[[ \"bike_rents\", 'attack(y/n)']].copy()"
   ]
  },
  {
   "cell_type": "code",
   "execution_count": 198,
   "metadata": {},
   "outputs": [],
   "source": [
    "df_base\n",
    "\n",
    "# dropping duplicate date index rows\n",
    "df_base = df_base.loc[~df_base.index.duplicated(keep='first')]"
   ]
  },
  {
   "cell_type": "code",
   "execution_count": 199,
   "metadata": {},
   "outputs": [],
   "source": [
    "def get_dates_of_attack_lst(df):\n",
    "    dates_of_attack = list(df.loc[df[\"attack(y/n)\"] == True].index)\n",
    "    return list(dict.fromkeys(dates_of_attack))\n",
    "    "
   ]
  },
  {
   "cell_type": "code",
   "execution_count": 200,
   "metadata": {},
   "outputs": [],
   "source": [
    "def get_date_index(date, days = 8):\n",
    "    date_indexes = []\n",
    "    week_before = list(pd.date_range(end = date, periods = days))\n",
    "    week_after = list(pd.date_range(start = date, periods = days))\n",
    "    for entry in week_before:\n",
    "        date_indexes.append(entry)\n",
    "    for entry in week_after:\n",
    "        date_indexes.append(entry)\n",
    "    return pd.to_datetime(list(dict.fromkeys(date_indexes)))"
   ]
  },
  {
   "cell_type": "code",
   "execution_count": 201,
   "metadata": {},
   "outputs": [],
   "source": [
    "def get_rents_counts(df, date_index):\n",
    "    time_ser = get_date_index(date_index)\n",
    "    return df['bike_rents'][time_ser]"
   ]
  },
  {
   "cell_type": "code",
   "execution_count": 202,
   "metadata": {},
   "outputs": [],
   "source": [
    "def get_diff(ser):\n",
    "    chunk_size = len(ser)//2\n",
    "    before_sum = sum(ser[0:chunk_size])\n",
    "    after_sum =  sum(ser[(chunk_size+1):len(ser)])\n",
    "    return after_sum - before_sum "
   ]
  },
  {
   "cell_type": "code",
   "execution_count": 203,
   "metadata": {},
   "outputs": [],
   "source": [
    "def get_diff_df(df, days = 8):\n",
    "    lst_diff = [] \n",
    "    # get list of terrorism attack dates from df\n",
    "    lst_of_attacks = get_dates_of_attack_lst(df)\n",
    "    # for each attack date get list of surrounding dates depending on days passed to the function\n",
    "    # and from that list get a a series of bike rent counts for that time period\n",
    "    for elem in lst_of_attacks:\n",
    "        time_series = get_rents_counts(df, elem)\n",
    "        # dealing with missing values at the beginning and the end of the date series by skipping them\n",
    "        if time_series.isnull().sum() != 0:\n",
    "            continue\n",
    "        lst_diff.append(get_diff(time_series))\n",
    "    return sum(lst_diff)/len(lst_diff)\n"
   ]
  },
  {
   "cell_type": "code",
   "execution_count": 204,
   "metadata": {},
   "outputs": [
    {
     "data": {
      "text/plain": [
       "-1360.7882352941176"
      ]
     },
     "execution_count": 204,
     "metadata": {},
     "output_type": "execute_result"
    }
   ],
   "source": [
    "get_diff_df(df_base, 8)"
   ]
  }
 ],
 "metadata": {
  "kernelspec": {
   "display_name": "Python 3",
   "language": "python",
   "name": "python3"
  },
  "language_info": {
   "codemirror_mode": {
    "name": "ipython",
    "version": 3
   },
   "file_extension": ".py",
   "mimetype": "text/x-python",
   "name": "python",
   "nbconvert_exporter": "python",
   "pygments_lexer": "ipython3",
   "version": "3.7.3"
  }
 },
 "nbformat": 4,
 "nbformat_minor": 2
}
